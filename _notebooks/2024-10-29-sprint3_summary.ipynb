{
 "cells": [
  {
   "cell_type": "raw",
   "metadata": {
    "vscode": {
     "languageId": "raw"
    }
   },
   "source": [
    "---\n",
    "layout: post\n",
    "title: Sprint 3 - Closure\n",
    "description:  CSA Project CB Corrections\n",
    "type: issues \n",
    "courses: { csa: {week: 13} }\n",
    "comments: true\n",
    "permalink: /csa/sprint3/summary\n",
    "---"
   ]
  },
  {
   "cell_type": "markdown",
   "metadata": {},
   "source": [
    "# CB MCQ Corrections\n",
    "\n",
    "![image](https://github.com/user-attachments/assets/ac76416c-dcd1-4e34-bb65-346dd9538f89)\n",
    "\n",
    "The correct answer is 2, because integers can't have any decimals, so the 2.3333 is \"rounded\" or truncated to 2.\n",
    "\n",
    "![image](https://github.com/user-attachments/assets/9dde841a-6436-4eb3-8338-b230425e26a5)\n",
    "\n",
    "The correct answer is if (last < 0) { return -1;}, because this returns the -1 indicating that there is no such element, as soon as there are no more terms to search through. When there is no more terms, last will be less than 0, becuase it will search through data[last = 0], and then subtract 1 from last, making it -1, and making it less than 0.\n",
    "\n",
    "![image](https://github.com/user-attachments/assets/1751abc6-7a46-4c78-8751-2e07e74df20d)\n",
    "\n",
    "The correct answer is k + a1.length, because there is no reason for a +1 to a1.length. It will try to access an element at a position 1 more than the size of a1, meaning there will be an out of bounds error.\n",
    "\n",
    "![image](https://github.com/user-attachments/assets/8c1041f7-069b-44c6-9d2a-a6e8c20ba212)\n",
    "\n",
    "The correct answer is (a != b) || (b <= 7). I just forgot to flip the &&, which is an and, to an ||, which is an or. The original statement is asking for the reverse of (a = b ) && (b > 7), which is (a != b) || (b <= 7).\n",
    "\n",
    "![image](https://github.com/user-attachments/assets/2e40fab7-453e-4c5d-a4bf-f85a9caecd24)\n",
    "\n",
    "The correct answer is I and III only. III is included, because when x is incremented, 2 is added to it, in order for another term to be printed out, it must be in a multiple of 2. If it is 7, it will print a value for 1, 3, 5., and the it skips to 7, which is not less than 7, and not less than 6. x < 6 and x < 7 have the same output, so I and III is the correct answer.\n",
    "\n",
    "\n"
   ]
  }
 ],
 "metadata": {
  "language_info": {
   "name": "python"
  }
 },
 "nbformat": 4,
 "nbformat_minor": 2
}
