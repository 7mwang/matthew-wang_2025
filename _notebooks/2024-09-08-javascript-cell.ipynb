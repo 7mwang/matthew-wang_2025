{
 "cells": [
  {
   "cell_type": "markdown",
   "metadata": {},
   "source": [
    "---\n",
    "layout: post\n",
    "title: Sprint 1 - Javascript Cell\n",
    "comments: true\n",
    "---"
   ]
  },
  {
   "cell_type": "markdown",
   "metadata": {},
   "source": [
    "<button onclick=\"showImage()\">Click to reveal the programming language we will be learning!</button>\n",
    "<img src=\"https://upload.wikimedia.org/wikipedia/en/3/30/Java_programming_language_logo.svg\" id=\"javaimg\" style=\"display:none;\">\n",
    "<script>\n",
    "function showImage() {\n",
    "    const img = document.getElementById(\"javaimg\");\n",
    "    if (img.style.display != \"block\") {\n",
    "        img.style.display = \"block\"; \n",
    "    } else {\n",
    "        img.style.display = \"none\"; \n",
    "    }\n",
    "}\n",
    "</script>\n"
   ]
  }
 ],
 "metadata": {
  "kernelspec": {
   "display_name": "venv",
   "language": "python",
   "name": "python3"
  },
  "language_info": {
   "codemirror_mode": {
    "name": "ipython",
    "version": 3
   },
   "file_extension": ".py",
   "mimetype": "text/x-python",
   "name": "python",
   "nbconvert_exporter": "python",
   "pygments_lexer": "ipython3",
   "version": "3.10.12"
  }
 },
 "nbformat": 4,
 "nbformat_minor": 2
}
