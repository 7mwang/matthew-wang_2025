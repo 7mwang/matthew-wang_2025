{
 "cells": [
  {
   "cell_type": "markdown",
   "metadata": {},
   "source": [
    "---\n",
    "layout: post\n",
    "title: Sprint 1 - Frontend Hacks\n",
    "comments: true\n",
    "---"
   ]
  },
  {
   "cell_type": "markdown",
   "metadata": {},
   "source": [
    "HTML Hacks\n",
    "<div>\n",
    "<p>Below is a singular button, with Button as the text. This is written in a paragraph tag. This paragraph and the button below are both in div 1.</p>\n",
    "<button>Button</button>\n",
    "</div>\n",
    "\n",
    "<div>\n",
    "    <a href=\"https://google.com\">This is link to google</a>\n",
    "    <a  href=\"https://youtube.com\">This is link to youtube</a>\n",
    "<p>This is another paragraph tag. Both links and this paragraph are in div 2.</p>\n",
    "</div>\n",
    "\n"
   ]
  },
  {
   "cell_type": "markdown",
   "metadata": {},
   "source": [
    "JavaScript Hacks"
   ]
  },
  {
   "cell_type": "code",
   "execution_count": 5,
   "metadata": {
    "vscode": {
     "languageId": "javascript"
    }
   },
   "outputs": [
    {
     "data": {
      "application/javascript": "obj = {\n    name: \"Matthew\",\n    age: 17,\n    classes: [\"CSA\", \"World Lit\", \"Stats\", \"Civics\", \"Psych\"],\n    interests: [\"Badminton\", \"Programming\", \"Gaming\"],\n    driverslicense: false, \n    glasses: true,\n    highschoolyearscompleted: 3         \n}\n\nconsole.log(obj)\nconsole.log(obj[name])\nobj[name] = \"Matthew Wang\"\nconsole.log(obj[name])\nconsole.log(tyepof obj[name])\nvar yearsoutsidehighscool = obj[age]-obj[highschoolyearscompleted]\nconsole.log(yearsoutsidehighscool)\n\n",
      "text/plain": [
       "<IPython.core.display.Javascript object>"
      ]
     },
     "metadata": {},
     "output_type": "display_data"
    }
   ],
   "source": [
    "%%js\n",
    "\n",
    "obj = {\n",
    "    name: \"Matthew\",\n",
    "    age: 17,\n",
    "    classes: [\"CSA\", \"World Lit\", \"Stats\", \"Civics\", \"Psych\"],\n",
    "    interests: [\"Badminton\", \"Programming\", \"Gaming\"],\n",
    "    driverslicense: false, \n",
    "    glasses: true,\n",
    "    highschoolyearscompleted: 3         \n",
    "}\n",
    "\n",
    "console.log(obj)\n",
    "console.log(\"My name is \" + obj[\"name\"])\n",
    "obj[\"name\"] = \"Matthew Wang\"\n",
    "console.log(\"My full name is \" + obj[\"name\"])\n",
    "console.log(\"It is a \" + typeof obj[\"name\"])\n",
    "console.log(\"glasses is a \" + typeof obj[\"glasses\"])\n",
    "console.log(\"age is a \" + typeof obj[\"age\"])\n",
    "var yearsoutsidehighscool = obj[\"age\"]-obj[\"highschoolyearscompleted\"]\n",
    "console.log(\"I have spent \" + yearsoutsidehighscool + \" years outside of high school\")\n",
    "\n",
    "\n"
   ]
  },
  {
   "cell_type": "code",
   "execution_count": null,
   "metadata": {
    "vscode": {
     "languageId": "html"
    }
   },
   "outputs": [],
   "source": [
    "{\n",
    "  name: 'Matthew',\n",
    "  age: 17,\n",
    "  classes: [ 'CSA', 'World Lit', 'Stats', 'Civics', 'Psych' ],\n",
    "  interests: [ 'Badminton', 'Programming', 'Gaming' ],\n",
    "  driverslicense: false,\n",
    "  glasses: true,\n",
    "  highschoolyearscompleted: 3\n",
    "}\n",
    "My name is Matthew\n",
    "My full name is Matthew Wang\n",
    "It is a string\n",
    "glasses is a boolean\n",
    "age is a number\n",
    "I have spent 14 years outside of high school"
   ]
  },
  {
   "cell_type": "markdown",
   "metadata": {},
   "source": [
    "<div>\n",
    "    <p id=\"top-paragraph\">Below is a singular button, with Button as the text. This is written in a paragraph tag. This paragraph and the button below are both in div 1.</p>\n",
    "    <button onclick=\"swap()\">Button</button>\n",
    "</div>\n",
    "\n",
    "<div>\n",
    "    <a id=\"link1\" href=\"https://google.com\">This is link to google</a>\n",
    "    <a id=\"link2\" href=\"https://youtube.com\">This is link to youtube</a>\n",
    "    <p>This is another paragraph tag. Both links and this paragraph are in div 2.</p>\n",
    "</div>\n",
    "\n",
    "<script>\n",
    "    function swap() {\n",
    "        const link1 = document.getElementById(\"link1\");\n",
    "        const link2 = document.getElementById(\"link2\");\n",
    "\n",
    "        const tempHref = link1.href;\n",
    "        link1.href = link2.href;\n",
    "        link2.href = tempHref;\n",
    "\n",
    "        const tempText = link1.innerHTML;\n",
    "        link1.innerHTML = link2.innerHTML;\n",
    "        link2.innerHTML = tempText;\n",
    "\n",
    "        document.getElementById(\"top-paragraph\").innerHTML = \"switched!\";\n",
    "    }\n",
    "</script>\n"
   ]
  },
  {
   "cell_type": "markdown",
   "metadata": {},
   "source": [
    "More JavaScript hacks"
   ]
  },
  {
   "cell_type": "code",
   "execution_count": 6,
   "metadata": {
    "vscode": {
     "languageId": "javascript"
    }
   },
   "outputs": [
    {
     "data": {
      "application/javascript": "\nlet a = 10; // You can assign any values to a and b\nlet b = 20;\n\nif (a > b) {\n    console.log(\"a is greater\");\n} else if (b > a) {\n    console.log(\"b is greater\");\n} else {\n    console.log(\"both are equal\");\n}\n",
      "text/plain": [
       "<IPython.core.display.Javascript object>"
      ]
     },
     "metadata": {},
     "output_type": "display_data"
    }
   ],
   "source": [
    "let a = 10;\n",
    "let b = 20;\n",
    "\n",
    "if (a > b) {\n",
    "    console.log(\"a is greater\");\n",
    "} else if (b > a) {\n",
    "    console.log(\"b is greater\");\n",
    "} else {\n",
    "    console.log(\"both are equal\");\n",
    "}\n"
   ]
  },
  {
   "cell_type": "markdown",
   "metadata": {},
   "source": [
    "b is greater"
   ]
  },
  {
   "cell_type": "code",
   "execution_count": null,
   "metadata": {
    "vscode": {
     "languageId": "javascript"
    }
   },
   "outputs": [],
   "source": [
    "let x = 10;\n",
    "let y = 5;\n",
    "\n",
    "let addition = x + y;\n",
    "let subtraction = x - y;\n",
    "let multiplication = x * y;\n",
    "let division = x / y;\n",
    "\n",
    "\n",
    "let modulo = x % y;         \n",
    "let exponent = x ** y;      \n",
    "\n",
    "console.log(\"Addition: \" + addition);          \n",
    "console.log(\"Subtraction: \" + subtraction);    \n",
    "console.log(\"Multiplication: \" + multiplication); \n",
    "console.log(\"Division: \" + division);         \n",
    "console.log(\"Modulo: \" + modulo);              \n",
    "console.log(\"Exponent: \" + exponent);         \n"
   ]
  },
  {
   "cell_type": "code",
   "execution_count": null,
   "metadata": {
    "vscode": {
     "languageId": "html"
    }
   },
   "outputs": [],
   "source": [
    "Addition: 15\n",
    "Subtraction: 5\n",
    "Multiplication: 50\n",
    "Division: 2\n",
    "Modulo: 0\n",
    "Exponent: 100000"
   ]
  }
 ],
 "metadata": {
  "kernelspec": {
   "display_name": "venv",
   "language": "python",
   "name": "python3"
  },
  "language_info": {
   "codemirror_mode": {
    "name": "ipython",
    "version": 3
   },
   "file_extension": ".py",
   "mimetype": "text/x-python",
   "name": "python",
   "nbconvert_exporter": "python",
   "pygments_lexer": "ipython3",
   "version": "3.10.12"
  }
 },
 "nbformat": 4,
 "nbformat_minor": 2
}
