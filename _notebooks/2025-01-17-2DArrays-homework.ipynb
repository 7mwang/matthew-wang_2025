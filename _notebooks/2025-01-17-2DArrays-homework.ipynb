{
 "cells": [
  {
   "cell_type": "markdown",
   "metadata": {},
   "source": [
    "---\n",
    "layout: post\n",
    "title: 2D Arrays Homework\n",
    "type: hacks\n",
    "comments: true\n",
    "permalink: /2D-Arrays/homework\n",
    "---"
   ]
  },
  {
   "cell_type": "code",
   "execution_count": null,
   "metadata": {
    "vscode": {
     "languageId": "java"
    }
   },
   "outputs": [],
   "source": [
    "public class ArrayResizer {\n",
    "    public static boolean isNonZeroRow(int[][] array2D, int r) {\n",
    "        for (int i = 0; i < array2D[r].length; i++) {\n",
    "            if (array2D[r][i] == 0) {\n",
    "                return false;\n",
    "            }\n",
    "        }\n",
    "        return true;\n",
    "    }\n",
    "\n",
    "    public static int numNonZeroRows(int[][] array2D) {}\n",
    "\n",
    "    public static int[][] resize(int[][] array2D) {\n",
    "        int[][] resize = new int[numNonZeroRows(array2D)][array2D[0].length];\n",
    "        int index = 0;\n",
    "        for (int i = 0; i < array2D.length; i++) {\n",
    "            if (isNonZeroRow(array2D, i)) {\n",
    "                resize[index] = array2D[i];\n",
    "                index++;\n",
    "            }\n",
    "        }\n",
    "        return resize;\n",
    "    }\n",
    "}\n",
    "int[][] test = {{1,2,3},{4,5,6},{7,8,0}};"
   ]
  }
 ],
 "metadata": {
  "kernelspec": {
   "display_name": "Java",
   "language": "java",
   "name": "java"
  },
  "language_info": {
   "codemirror_mode": "java",
   "file_extension": ".jshell",
   "mimetype": "text/x-java-source",
   "name": "Java",
   "pygments_lexer": "java",
   "version": "17.0.12+7-Ubuntu-1ubuntu222.04"
  }
 },
 "nbformat": 4,
 "nbformat_minor": 2
}
