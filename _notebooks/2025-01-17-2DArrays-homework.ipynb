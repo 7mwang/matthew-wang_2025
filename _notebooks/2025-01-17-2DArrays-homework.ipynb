{
 "cells": [
  {
   "cell_type": "markdown",
   "metadata": {},
   "source": [
    "---\n",
    "layout: post\n",
    "title: 2D Arrays Homework\n",
    "type: hacks\n",
    "comments: true\n",
    "permalink: /2D-Arrays/homework\n",
    "---"
   ]
  },
  {
   "cell_type": "code",
   "execution_count": null,
   "metadata": {
    "vscode": {
     "languageId": "java"
    }
   },
   "outputs": [],
   "source": [
    "public class ArrayResizer {\n",
    "    public static boolean isNonZeroRow(int[][] array2D, int r) {\n",
    "        for (int i = 0; i < array2D[r].length; i++) { // loop through the contents of the row\n",
    "            if (array2D[r][i] == 0) { // if any number is a 0, return false immediately \n",
    "                return false;\n",
    "            }\n",
    "        }\n",
    "        return true; // else if no 0's found, return true\n",
    "    }\n",
    "\n",
    "    public static int numNonZeroRows(int[][] array2D) {}\n",
    "\n",
    "    public static int[][] resize(int[][] array2D) {\n",
    "        int[][] resize = new int[numNonZeroRows(array2D)][array2D[0].length]; // create a new 2D array with the number of nonzero rows as the rows, and the input columns as columns\n",
    "        int index = 0; //index of row of new array\n",
    "        for (int i = 0; i < array2D.length; i++) {\n",
    "            if (isNonZeroRow(array2D, i)) { // if the row looped through is a nonzero row,\n",
    "                resize[index] = array2D[i]; // set the current row of the new array to match the row of the old array\n",
    "                index++; //increment the index of the row of the new array\n",
    "            }\n",
    "        }\n",
    "        return resize; //return when finished\n",
    "    }\n",
    "}"
   ]
  }
 ],
 "metadata": {
  "kernelspec": {
   "display_name": "Java",
   "language": "java",
   "name": "java"
  },
  "language_info": {
   "codemirror_mode": "java",
   "file_extension": ".jshell",
   "mimetype": "text/x-java-source",
   "name": "Java",
   "pygments_lexer": "java",
   "version": "17.0.12+7-Ubuntu-1ubuntu222.04"
  }
 },
 "nbformat": 4,
 "nbformat_minor": 2
}
