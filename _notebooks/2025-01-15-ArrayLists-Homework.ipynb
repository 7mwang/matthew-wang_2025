{
 "cells": [
  {
   "cell_type": "code",
   "execution_count": null,
   "metadata": {},
   "outputs": [],
   "source": [
    "public class MemberInfo {\n",
    "    public MemberInfo(String name, int gradYear, boolean hasGoodStanding) {}\n",
    "\n",
    "    public int getGradYear() {}\n",
    "\n",
    "    public boolean inGoodStanding() {}\n",
    "\n",
    "}\n",
    "\n",
    "public class ClubMembers {\n",
    "    private ArrayList<MemberInfo> memberList;\n",
    "    \n",
    "    public void addMembers(String[] names, int gradYear) {\n",
    "        for (String n : names) {\n",
    "            MemberInfo newMember = new MemberInfo(n, gradYear, true);\n",
    "            memberList.add(newMember);\n",
    "        }\n",
    "    }\n",
    "\n",
    "    public ArrayList<MemberInfo> removeMembers(int year) {\n",
    "        ArrayList<MemberInfo> graduated = new ArrayList<MemberInfo>();\n",
    "        for(int i = memberList.size() -1; i >= 0; i--) {\n",
    "            if(memberList.get(i).getGradYear() <= year) {\n",
    "                if(memberList.get(i).inGoodStanding()) {\n",
    "                    graduated.add(memberList.get(i));\n",
    "                }\n",
    "                memberList.remove(i);\n",
    "            }\n",
    "        }\n",
    "        return graduated;\n",
    "    }\n",
    "}"
   ]
  },
  {
   "cell_type": "markdown",
   "metadata": {},
   "source": [
    "\n",
    "\n",
    "\n",
    "\n",
    "\n",
    "\n",
    "\n",
    "\n",
    "\n",
    "\n",
    "\n",
    "\n",
    "\n",
    "\n",
    "\n",
    "\n",
    "\n",
    "\n",
    "\n",
    "\n",
    "\n",
    "\n",
    "\n",
    "\n",
    "\n"
   ]
  },
  {
   "cell_type": "code",
   "execution_count": null,
   "metadata": {},
   "outputs": [],
   "source": []
  },
  {
   "cell_type": "code",
   "execution_count": null,
   "metadata": {},
   "outputs": [
    {
     "ename": "CompilationException",
     "evalue": "",
     "output_type": "error",
     "traceback": [
      "\u001b[1m\u001b[30m|   \u001b[1m\u001b[30m    public int getGradYear() \u001b[0m\u001b[1m\u001b[30m\u001b[41m{}\u001b[0m\u001b[1m\u001b[30m\u001b[0m",
      "\u001b[1m\u001b[31mmissing return statement\u001b[0m",
      "",
      "\u001b[1m\u001b[30m|   \u001b[1m\u001b[30m    public boolean inGoodStanding() \u001b[0m\u001b[1m\u001b[30m\u001b[41m{}\u001b[0m\u001b[1m\u001b[30m\u001b[0m",
      "\u001b[1m\u001b[31mmissing return statement\u001b[0m",
      ""
     ]
    }
   ],
   "source": [
    "public class MemberInfo {\n",
    "    public MemberInfo(String name, int gradYear, boolean hasGoodStanding) {}\n",
    "\n",
    "    public int getGradYear() {}\n",
    "\n",
    "    public boolean inGoodStanding() {}\n",
    "\n",
    "}\n",
    "\n",
    "public class ClubMembers {\n",
    "    private ArrayList<MemberInfo> memberList;\n",
    "    \n",
    "    public void addMembers(String[] names, int gradYear) {\n",
    "        for(int i = 0; i < names.length(); i++) {\n",
    "            MemberInfo newMember = new MemberInfo(names[i], gradYear, true);\n",
    "            memberList.add(newMember);\n",
    "        }\n",
    "    }\n",
    "\n",
    "    public ArrayList<MemberInfo> removeMembers(int year) {\n",
    "        ArrayList<MemberInfo> graduated = new ArrayList<MemberInfo>();\n",
    "        for(int i = memberList.size() - 1; i >= 0; i++) {\n",
    "            if (memberList.get(i).getGradYear() <= year) {\n",
    "                if (memberList.get(i).inGoodStanding) {\n",
    "                    graduated.add(memberList.get(i));\n",
    "                }\n",
    "                memberList.remove(i);\n",
    "            }\n",
    "        return graduated;\n",
    "        }\n",
    "    }\n",
    "}"
   ]
  },
  {
   "cell_type": "code",
   "execution_count": null,
   "metadata": {},
   "outputs": [],
   "source": []
  },
  {
   "cell_type": "code",
   "execution_count": null,
   "metadata": {},
   "outputs": [],
   "source": []
  },
  {
   "cell_type": "code",
   "execution_count": null,
   "metadata": {},
   "outputs": [],
   "source": []
  },
  {
   "cell_type": "code",
   "execution_count": null,
   "metadata": {},
   "outputs": [],
   "source": []
  },
  {
   "cell_type": "code",
   "execution_count": null,
   "metadata": {},
   "outputs": [],
   "source": []
  }
 ],
 "metadata": {
  "kernelspec": {
   "display_name": "Java",
   "language": "java",
   "name": "java"
  },
  "language_info": {
   "codemirror_mode": "java",
   "file_extension": ".jshell",
   "mimetype": "text/x-java-source",
   "name": "java",
   "pygments_lexer": "java",
   "version": "17.0.12+7-Ubuntu-1ubuntu222.04"
  }
 },
 "nbformat": 4,
 "nbformat_minor": 2
}
