{
 "cells": [
  {
   "cell_type": "markdown",
   "metadata": {},
   "source": [
    "---\n",
    "layout: post\n",
    "title: Sprint 1 - Plans and Objectives \n",
    "description:  Marking down what I do have done, and what I need to get finished\n",
    "comments: true\n",
    "---"
   ]
  },
  {
   "cell_type": "markdown",
   "metadata": {},
   "source": [
    "# Accomplishments\n",
    "- Finished tool setups\n",
    "- Introduction to gitlens\n",
    "- fixed sudo on make, now have autoregen\n",
    "- finished tools play, tool hacks\n",
    "- Finished github-pages hacks\n",
    "- Finished SASS basics\n",
    "- Finished frontend hacks"
   ]
  },
  {
   "cell_type": "markdown",
   "metadata": {},
   "source": [
    "# Plans\n",
    "- Finalize pair programming arrangements and plans, and execute plans"
   ]
  }
 ],
 "metadata": {
  "language_info": {
   "name": "python"
  }
 },
 "nbformat": 4,
 "nbformat_minor": 2
}
