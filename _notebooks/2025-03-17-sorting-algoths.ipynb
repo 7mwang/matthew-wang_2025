{
 "cells": [
  {
   "cell_type": "code",
   "execution_count": null,
   "metadata": {},
   "outputs": [
    {
     "ename": "",
     "evalue": "",
     "output_type": "error",
     "traceback": [
      "\u001b[1;31mFailed to start the Kernel. \n",
      "\u001b[1;31mError: could not open `KERNEL_INSTALL_DIRECTORY@/ijava-1.3.0.jar'. \n",
      "\u001b[1;31mView Jupyter <a href='command:jupyter.viewOutput'>log</a> for further details."
     ]
    }
   ],
   "source": [
    "public static void main(String[] args) {\n",
    "    int[] arr = [0, 2, 3, 5]; \n",
    "    selection(arr);\n",
    "}\n",
    "\n",
    "public int[] selection(int[] arr) {\n",
    "    for(int i = 0; i >= arr.length(); i++) {\n",
    "        int big = arr[0];\n",
    "        if (big < arr[i]) {\n",
    "            big = arr[i];\n",
    "            System.out.println(big);\n",
    "        }\n",
    "    }\n",
    "} "
   ]
  }
 ],
 "metadata": {
  "kernelspec": {
   "display_name": "Java",
   "language": "java",
   "name": "java"
  },
  "language_info": {
   "name": "java"
  }
 },
 "nbformat": 4,
 "nbformat_minor": 2
}
