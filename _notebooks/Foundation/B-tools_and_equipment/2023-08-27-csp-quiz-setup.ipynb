{
 "cells": [
  {
   "cell_type": "markdown",
   "metadata": {},
   "source": [
    "rm -rf nighthawk dir\n",
    "\n",
    "![image_720](https://github.com/user-attachments/assets/2b8edecf-a9ac-4a68-9144-d6bc32673782)\n",
    "\n",
    "recloning student and portfolio\n",
    "\n",
    "![image_720](https://github.com/user-attachments/assets/09a8fc7a-c4ef-4979-b841-97fa154d1938)\n",
    "\n",
    "activate ubuntu\n",
    "\n",
    "![image](https://github.com/user-attachments/assets/9d57b468-b8c5-4564-9a76-b0b574559cfb)\n",
    "\n",
    "![image](https://github.com/user-attachments/assets/137ba268-efb4-4d73-a4ed-ac21befb859c)\n",
    "\n",
    "tool versions and github conf\n",
    "\n",
    "![image](https://github.com/user-attachments/assets/8f7df22a-2dc1-4429-8ecb-08f39257442b)\n",
    "\n",
    "venv\n",
    "\n",
    "![image](https://github.com/user-attachments/assets/15732b9b-1872-4a91-9de0-a48399411843)\n",
    "\n",
    "![image](https://github.com/user-attachments/assets/62d9f12d-dc98-4d15-a11c-4ebcc33a1aff)\n",
    "\n",
    "pip install reqs\n",
    "\n",
    "![image](https://github.com/user-attachments/assets/f3e081c3-1e85-43a0-8f0a-10ffddd01a1f)\n",
    "\n",
    "kernel list\n",
    "\n",
    "![image](https://github.com/user-attachments/assets/6b411e31-b2cf-4de7-bf87-2d5374c64009)\n",
    "\n",
    "gems\n",
    "\n",
    "![image](https://github.com/user-attachments/assets/e4a7d2d3-2b6b-423a-8932-40244c7908a9)\n",
    "picture of the student site working on .github.io and local\n",
    "\n",
    "![image](https://github.com/user-attachments/assets/13abb86e-7736-4561-96eb-1ede99261721)\n",
    "\n",
    "![image](https://github.com/user-attachments/assets/cae2a705-0d85-49f4-9b4b-df2a138b333e)\n",
    "\n",
    "picture of portfolio site working on local\n",
    "\n",
    "![image](https://github.com/user-attachments/assets/0bcccd3b-0cc2-4599-bfbb-debd04c9b4b1)\n",
    "\n",
    "\n",
    "\n",
    "picture of johnathan, zaid, and I after we got things working\n",
    "\n",
    "![362043195-0d57d00b-9037-4202-8a6c-a390d5481202](https://github.com/user-attachments/assets/7e244c0d-f255-4173-943b-aadf61cb1f67)\n"
   ]
  }
 ],
 "metadata": {
  "language_info": {
   "name": "python"
  }
 },
 "nbformat": 4,
 "nbformat_minor": 2
}
