{
 "cells": [
  {
   "cell_type": "markdown",
   "metadata": {},
   "source": [
    "---\n",
    "layout: post\n",
    "type: collab\n",
    "title: Unit 4 - HW Quiz\n",
    "description: Unit 4 Team Teach HW QUIZ\n",
    "comments: true\n",
    "permalink: /csa/unit4-p1/unit4-hwquiz\n",
    "menu: nav/CSA_Units/csa_unit4_p1.html\n",
    "author: hanlun, saaras, arthur, miheer, eshaan, beijan\n",
    "---"
   ]
  },
  {
   "cell_type": "markdown",
   "metadata": {},
   "source": [
    "## Unit 4 - Iteration:\n",
    "- This is the homework quiz for unit 4, iterations\n",
    "- 4 multiple choice questions\n",
    "- 2 programming hacks\n",
    "- 1 bonus programming hack (required to get above 0.9)"
   ]
  },
  {
   "cell_type": "markdown",
   "metadata": {},
   "source": [
    "### Question 1:\n",
    "What does the following code print?   \n",
    "\n",
    "A. 5 6 7 8 9   \n",
    "\n",
    "B. 4 5 6 7 8 9 10 11 12   \n",
    "\n",
    "C. 3 5 7 9 11   \n",
    "\n",
    "D. 3 4 5 6 7 8 9 10 11 12   \n",
    "\n",
    "<details>\n",
    "<summary>Click to reveal answer:</summary> \n",
    "  D\n",
    "</details>\n",
    "\n",
    "Explain your answer. (explanation is graded not answer)"
   ]
  },
  {
   "cell_type": "markdown",
   "metadata": {},
   "source": [
    "D. i starts out at 3, and is printed out, and then is incremented and printed until it is above 12, in which case the loop terminates, leaving us with\n",
    "\n",
    "print 3 -> increment -> print 4 -> increment.... -> print 12 -> increment -> i = 13, condition not fulfilled because 13 > 12, loop terminates"
   ]
  },
  {
   "cell_type": "code",
   "execution_count": null,
   "metadata": {
    "vscode": {
     "languageId": "java"
    }
   },
   "outputs": [],
   "source": [
    "for (int i = 3; i <= 12; i++) {\n",
    "   System.out.print(i + \" \");\n",
    "}"
   ]
  },
  {
   "cell_type": "markdown",
   "metadata": {},
   "source": [
    "### Bonus:\n",
    "- Explain the difference between using a variable like i inside a for loop, vs. using a variable that exists in the code itself for a while loop"
   ]
  },
  {
   "cell_type": "markdown",
   "metadata": {},
   "source": [
    "### Question 2:\n",
    "How many times does the following method print a \"*\" ?\n",
    "\n",
    "A. 9\n",
    "\n",
    "B. 7\n",
    "\n",
    "C. 8\n",
    "\n",
    "D. 6\n",
    "\n",
    "<details>\n",
    "<summary>Click to reveal answer:</summary> \n",
    "  C\n",
    "</details>\n",
    "\n",
    "Explain your answer. (explanation is graded not answer)"
   ]
  },
  {
   "cell_type": "markdown",
   "metadata": {},
   "source": [
    "C. Since the condition is not inclusive, we can simply subtract the number being compared to in the condition from the initial value. 11-3 = 8, and * is printed once per loop, meaning it should print out 8 times total. Once it loops the 8th time, i will increment to be = to 11, and since 11 is not < 11, the condition is no longer fulfilled, and the loop terminates."
   ]
  },
  {
   "cell_type": "code",
   "execution_count": null,
   "metadata": {
    "vscode": {
     "languageId": "java"
    }
   },
   "outputs": [],
   "source": [
    "for (int i = 3; i < 11; i++) {\n",
    "   System.out.print(\"*\");\n",
    "}"
   ]
  },
  {
   "cell_type": "markdown",
   "metadata": {},
   "source": [
    "### Question 3:\n",
    "What does the following code print?\n",
    "\n",
    "A. -4 -3 -2 -1 0\n",
    "\n",
    "B. -5 -4 -3 -2 -1\n",
    "\n",
    "C. 5 4 3 2 1\n",
    "\n",
    "<details>\n",
    "<summary>Click to reveal answer:</summary> \n",
    "  A\n",
    "</details>\n",
    "\n",
    "Explain your answer. (explanation is graded not answer)"
   ]
  },
  {
   "cell_type": "markdown",
   "metadata": {},
   "source": [
    "A. Because x increments before printing, it will not start out printing -5, which is the initial value of x, but will start by printing x + 1, which would be -4. It goes on to iterate until x is -1, where x is incremented and printed one more time. Now that x = 0, and 0 is not < 0, the loop terminates, leaving us with -4 -3 -2 -1 0."
   ]
  },
  {
   "cell_type": "code",
   "execution_count": null,
   "metadata": {
    "vscode": {
     "languageId": "java"
    }
   },
   "outputs": [],
   "source": [
    "int x = -5;\n",
    "while (x < 0)\n",
    "{\n",
    "   x++;\n",
    "   System.out.print(x + \" \");\n",
    "}"
   ]
  },
  {
   "cell_type": "markdown",
   "metadata": {},
   "source": [
    "### Question 4:\n",
    "What does the following code print?\n",
    "\n",
    "A. 20\n",
    "\n",
    "B. 21\n",
    "\n",
    "C. 25\n",
    "\n",
    "D. 30\n",
    "\n",
    "<details>\n",
    "<summary>Click to reveal answer:</summary> \n",
    "  B\n",
    "</details>\n",
    "\n",
    "Explain your answer. (explanation is graded not answer)"
   ]
  },
  {
   "cell_type": "markdown",
   "metadata": {},
   "source": [
    "1+4+3+8+5 = 21\n",
    "\n",
    "The remainder of 1/2 or 1 mod 2 is not equal to 0, so the value is added to sum\n",
    "\n",
    "The remainder of 2/2 or 2 mod 2 is equal to 0, so the value is doubled and added to sum\n",
    "\n",
    "Every even number will be doubled then added, while every odd number will be simply added.\n",
    "\n",
    "Because we are looping a total of 5 times, (number in condition = 5, initial value = 1, 5-1=4, but because it is inclusive, we add 1 back, so loops 5 times) and the loop terminates after i is greater than 5, all the numbers from the initial value of 1 to the ending value of 5 must be considered for this. Doing some simple math, knowing that every even number up to 5 will be doubled and every odd one won't, we arrive at 21."
   ]
  },
  {
   "cell_type": "code",
   "execution_count": null,
   "metadata": {
    "vscode": {
     "languageId": "java"
    }
   },
   "outputs": [],
   "source": [
    "int sum = 0;\n",
    "\n",
    "for (int i = 1; i <= 5; i++) {\n",
    "    if (i % 2 == 0) {\n",
    "        sum += i * 2;\n",
    "    } else {\n",
    "        sum += i;\n",
    "    }\n",
    "}\n",
    "\n",
    "System.out.println(sum);"
   ]
  },
  {
   "cell_type": "markdown",
   "metadata": {},
   "source": [
    "## Loops HW Hack"
   ]
  },
  {
   "cell_type": "markdown",
   "metadata": {},
   "source": [
    "### Easy Hack\n",
    "- Use a while loop to find the numbers from 1-50 that are divisible by 3 or 5, then store them into a list (make sure to print it out at the end)\n",
    "- Use a for loop to do the same thing detailed above"
   ]
  },
  {
   "cell_type": "code",
   "execution_count": 3,
   "metadata": {
    "vscode": {
     "languageId": "java"
    }
   },
   "outputs": [
    {
     "name": "stdout",
     "output_type": "stream",
     "text": [
      "[3, 5, 6, 9, 10, 12, 15, 18, 20, 21, 24, 25, 27, 30, 33, 35, 36, 39, 40, 42, 45, 48, 50]\n"
     ]
    }
   ],
   "source": [
    "import java.util.ArrayList;\n",
    "import java.util.List;\n",
    "\n",
    "List<Integer> whileloop = new ArrayList<>();\n",
    "int i = 1;\n",
    "while (i <= 50) {\n",
    "    if (i % 3 == 0 || i % 5 == 0) {\n",
    "        whileloop.add(i);\n",
    "    }\n",
    "    i++;\n",
    "}\n",
    "System.out.println(whileloop)"
   ]
  },
  {
   "cell_type": "code",
   "execution_count": 14,
   "metadata": {
    "vscode": {
     "languageId": "java"
    }
   },
   "outputs": [
    {
     "name": "stdout",
     "output_type": "stream",
     "text": [
      "[3, 5, 6, 9, 10, 12, 15, 18, 20, 21, 24, 25, 27, 30, 33, 35, 36, 39, 40, 42, 45, 48, 50]\n"
     ]
    }
   ],
   "source": [
    "import java.util.ArrayList;\n",
    "import java.util.List;\n",
    "\n",
    "List<Integer> forloop = new ArrayList<>();\n",
    "for (int i = 1; i <= 50; i++) {\n",
    "    if (i % 3 == 0 || i % 5 == 0) {\n",
    "        forloop.add(i);\n",
    "    }\n",
    "}\n",
    "System.out.println(forloop)"
   ]
  },
  {
   "cell_type": "markdown",
   "metadata": {},
   "source": [
    "### Harder Hack\n",
    "#### Palindromes are numbers that have the same value when reversed (ex: “123321” or “323”). Create a program that uses a while loop that outputs all palindromes in any given list. \n",
    "\n",
    "Sample Input: \n",
    "test_list = [5672, 235, 5537, 6032, 317, 8460, 1672, 8104, 7770, 4442, 913, 2508, 1116, 9969, 9091, 522, 8756, 9527, 7968, 1520, 4444, 515, 2882, 6556, 595]\n",
    "\n",
    "Sample Output:\n",
    "4444, 515, 2882, 6556, 595"
   ]
  },
  {
   "cell_type": "code",
   "execution_count": 11,
   "metadata": {
    "vscode": {
     "languageId": "java"
    }
   },
   "outputs": [
    {
     "name": "stdout",
     "output_type": "stream",
     "text": [
      "all palindromes: [4444, 515, 2882, 6556, 595]\n"
     ]
    }
   ],
   "source": [
    "import java.util.ArrayList;\n",
    "import java.util.List;\n",
    "\n",
    "\n",
    "List<Integer> palindromes = new ArrayList<>();\n",
    "\n",
    "int[] test_list = {5672, 235, 5537, 6032, 317, 8460, 1672, 8104, 7770, 4442, 913, 2508, 1116, 9969, 9091, 522, 8756, 9527, 7968, 1520, 4444, 515, 2882, 6556, 595};\n",
    "\n",
    "int i = 0;\n",
    "while (i < test_list.length) {\n",
    "    String value = Integer.toString(test_list[i]);\n",
    "    StringBuilder newString = new StringBuilder();\n",
    "    \n",
    "    for (int j = value.length() - 1; j >= 0; j--) {\n",
    "        newString.append(value.charAt(j)); \n",
    "    }\n",
    "\n",
    "    if (newString.toString().equals(value)) {\n",
    "        palindromes.add(test_list[i]); \n",
    "    }\n",
    "    \n",
    "    i++;\n",
    "}\n",
    "\n",
    "\n",
    "System.out.println(\"all palindromes: \" + palindromes);\n",
    "\n"
   ]
  },
  {
   "cell_type": "markdown",
   "metadata": {},
   "source": [
    "## Bonus Hack (for above 0.9)\n",
    "### Use a for loop to output a spiral matrix with size n\n",
    "Example:\n",
    "\n",
    "Sample Input: n = 3\n",
    "\n",
    "Output: [[1, 2, 3], [8, 9, 4], [7, 6, 5]]"
   ]
  },
  {
   "cell_type": "markdown",
   "metadata": {},
   "source": [
    "easier to see (same code as below)\n",
    "\n",
    "```java\n",
    "int n = 3; //dimensions of matrix for x and y axis\n",
    "int[][] spiral = new int[n][n]; //initialize the matrix with dimensions of n by n, making it a square\n",
    "int left = 0; //left border\n",
    "int right = n - 1; // right border\n",
    "int top = 0; //top border\n",
    "int bottom = n - 1; // bottom border\n",
    "int num = 1; //starting value for both the matrix and the loop\n",
    "//loop until num is larger than the area of the matrix\n",
    "//since the area of the matrix is basically the numbers that need to be filled in, we also use num to fill the numbers in\n",
    "while (num <= n*n) { //visualize setting matrix values as a \"turtle\" starting at 0,0\n",
    "    for (int i = left; i <= right; i++) { // 1st loop: set values in the first row in increasing order until i reaches right border, ends at [0][2]\n",
    "        spiral[top][i] = num;\n",
    "        num++; //use num++ for reasons stated above, increase num every time to both fill the numbers in and act as a limit for the loop\n",
    "    //2nd loop: now the right, left, top, and bottom borders are in the center\n",
    "    } //2nd loop: stay on the top border which is at the center, and set values until you hit the right border, which is at the center\n",
    "    // 2nd loop: now, because all the borders have successfully closed in, and the \"turtle\" has kind of followed the borders until they close in on each other\n",
    "    // 2nd loop: the matrix is filled, num has been incremented enough to be 1 greater than the area of the matrix, so the loop terminates\n",
    "    // beyond: for bigger arrays, the turtle follows the same pattern, and the borders close in on each other once again after values are filled in,\n",
    "    // beyond:  but just with more iterations of this pattern, and the if statements will execute more than once as the conditions won't be fulfilled until later\n",
    "    top++; // add 1 to top to move \"turtle\"/upper bound downward 1\n",
    "    // give up on the turtle analogy and move back to borders\n",
    "    for (int i = top; i <= bottom; i++) {\n",
    "        spiral[i][right] = num; //stay on the right border and move down rows by incrementing i until you hit the bottom border\n",
    "        num++;\n",
    "    } //now end at [2][2]\n",
    "    right--;\n",
    "    //move the right border in 1 so you don't overwrite values you already put in\n",
    "    if (top <= bottom) { // check if the top border is still less than (higher than) the bottom border, if so proceed\n",
    "        for (int i = right; i >= left; i--) { // start on the newly defined right border (1 in from the original one) on the bottom row\n",
    "            spiral[bottom][i] = num; // stay on the bottom border and move leftward, completing the bottom row\n",
    "            num++;\n",
    "        }\n",
    "        bottom--; //close in the bottom border so it is in the center of the array, no more moving vertically\n",
    "    }\n",
    "\n",
    "    if (left <= right) { // make sure left border is less than (more leftward than) the right border\n",
    "        for (int i = bottom; i >= top; i--) { \n",
    "            spiral[i][left] = num; //stay on the left border which is still at 0, and move upward until you hit the top border\n",
    "            num++;\n",
    "        }\n",
    "        left++; //close in the left border so that it is in the center of the array, only 1 place left to go\n",
    "    }\n",
    "}\n",
    "\n",
    "System.out.println(Arrays.deepToString(spiral)); //print matrix unformatted\n",
    "\n",
    "for (int row = 0; row < n; row++) { \n",
    "    for (int col = 0; col < n; col++) { \n",
    "        System.out.print(spiral[row][col] + \" \"); //print matrix by row so it is easier to visualize\n",
    "    }\n",
    "    System.out.println();\n",
    "}\n",
    "\n",
    "```"
   ]
  },
  {
   "cell_type": "code",
   "execution_count": 24,
   "metadata": {
    "vscode": {
     "languageId": "java"
    }
   },
   "outputs": [
    {
     "name": "stdout",
     "output_type": "stream",
     "text": [
      "[[1, 2, 3], [8, 9, 4], [7, 6, 5]]\n",
      "1 2 3 \n",
      "8 9 4 \n",
      "7 6 5 \n"
     ]
    }
   ],
   "source": [
    "int n = 3; //dimensions of matrix for x and y axis\n",
    "int[][] spiral = new int[n][n]; //initialize the matrix with dimensions of n by n, making it a square\n",
    "int left = 0; //left border\n",
    "int right = n - 1; // right border\n",
    "int top = 0; //top border\n",
    "int bottom = n - 1; // bottom border\n",
    "int num = 1; //starting value for both the matrix and the loop\n",
    "//loop until num is larger than the area of the matrix\n",
    "//since the area of the matrix is basically the numbers that need to be filled in, we also use num to fill the numbers in\n",
    "while (num <= n*n) { //visualize setting matrix values as a \"turtle\" starting at 0,0\n",
    "    for (int i = left; i <= right; i++) { // 1st loop: set values in the first row in increasing order until i reaches right border, ends at [0][2]\n",
    "        spiral[top][i] = num;\n",
    "        num++; //use num++ for reasons stated above, increase num every time to both fill the numbers in and act as a limit for the loop\n",
    "    //2nd loop: now the right, left, top, and bottom borders are in the center\n",
    "    } //2nd loop: stay on the top border which is at the center, and set values until you hit the right border, which is at the center\n",
    "    // 2nd loop: now, because all the borders have successfully closed in, and the \"turtle\" has kind of followed the borders until they close in on each other\n",
    "    // 2nd loop: the matrix is filled, num has been incremented enough to be 1 greater than the area of the matrix, so the loop terminates\n",
    "    // beyond: for bigger arrays, the turtle follows the same pattern, and the borders close in on each other once again after values are filled in,\n",
    "    // beyond:  but just with more iterations of this pattern, and the if statements will execute more than once as the conditions won't be fulfilled until later\n",
    "    top++; // add 1 to top to move \"turtle\"/upper bound downward 1\n",
    "    // give up on the turtle analogy and move back to borders\n",
    "    for (int i = top; i <= bottom; i++) {\n",
    "        spiral[i][right] = num; //stay on the right border and move down rows by incrementing i until you hit the bottom border\n",
    "        num++;\n",
    "    } //now end at [2][2]\n",
    "    right--;\n",
    "    //move the right border in 1 so you don't overwrite values you already put in\n",
    "    if (top <= bottom) { // check if the top border is still less than (higher than) the bottom border, if so proceed\n",
    "        for (int i = right; i >= left; i--) { // start on the newly defined right border (1 in from the original one) on the bottom row\n",
    "            spiral[bottom][i] = num; // stay on the bottom border and move leftward, completing the bottom row\n",
    "            num++;\n",
    "        }\n",
    "        bottom--; //close in the bottom border so it is in the center of the array, no more moving vertically\n",
    "    }\n",
    "\n",
    "    if (left <= right) { // make sure left border is less than (more leftward than) the right border\n",
    "        for (int i = bottom; i >= top; i--) { \n",
    "            spiral[i][left] = num; //stay on the left border which is still at 0, and move upward until you hit the top border\n",
    "            num++;\n",
    "        }\n",
    "        left++; //close in the left border so that it is in the center of the array, only 1 place left to go\n",
    "    }\n",
    "}\n",
    "\n",
    "System.out.println(Arrays.deepToString(spiral)); //print matrix unformatted\n",
    "\n",
    "for (int row = 0; row < n; row++) { \n",
    "    for (int col = 0; col < n; col++) { \n",
    "        System.out.print(spiral[row][col] + \" \"); //print matrix by row so it is easier to visualize\n",
    "    }\n",
    "    System.out.println();\n",
    "}\n"
   ]
  }
 ],
 "metadata": {
  "kernelspec": {
   "display_name": "Java",
   "language": "java",
   "name": "java"
  },
  "language_info": {
   "codemirror_mode": "java",
   "file_extension": ".jshell",
   "mimetype": "text/x-java-source",
   "name": "Java",
   "pygments_lexer": "java",
   "version": "17.0.12+7-Ubuntu-1ubuntu222.04"
  }
 },
 "nbformat": 4,
 "nbformat_minor": 2
}
