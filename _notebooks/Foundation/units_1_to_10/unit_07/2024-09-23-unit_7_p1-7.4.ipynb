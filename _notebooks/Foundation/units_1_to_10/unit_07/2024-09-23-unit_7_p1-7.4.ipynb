{
 "cells": [
  {
   "cell_type": "raw",
   "metadata": {
    "vscode": {
     "languageId": "raw"
    }
   },
   "source": [
    "---\n",
    "layout: post\n",
    "toc: true\n",
    "title: 7.4 - Developing Algorithms Using ArrayLists\n",
    "description: ArrayLists Lesson\n",
    "authors: Aidan Lau, Saathvik Gampa, Sri Surapaneni, Tanav Kambhampati\n",
    "categories: [AP CSA]\n",
    "type: ccc\n",
    "permalink: /csa/unit7-p1/unit7-4\n",
    "menu: nav/CSA_Units/csa_unit7_p1.html\n",
    "---"
   ]
  },
  {
   "cell_type": "markdown",
   "metadata": {},
   "source": [
    "# 7.4 Developing Algorithms Using ArrayLists\n",
    "\n",
    "Prerequisite Knowledge: \n",
    "- size(): Returns the size of the arraylist as an Integer\n",
    "- add(object): Adds an object to the end of your ArrayList\n",
    "- void add(index, object): Addes an object to an index of your choice. Shifts the index of everything to the right by one and increases size by 1\n",
    "- get(index): Retrieves the object at the index specified\n",
    "- set(index, obj): Like void add, but instead of adding, it replaces the object that's already in that index\n",
    "- remove(index): Removes the object at specified index"
   ]
  },
  {
   "cell_type": "markdown",
   "metadata": {},
   "source": [
    "Here's an example of a program using **Arrays** that finds the maximum value:"
   ]
  },
  {
   "cell_type": "code",
   "execution_count": null,
   "metadata": {
    "vscode": {
     "languageId": "java"
    }
   },
   "outputs": [],
   "source": [
    "public class ArrayListExample {\n",
    "    private double findMax(double[] values) {\n",
    "        double max = values[0];\n",
    "    \n",
    "        for (int index = 1; index < values.length; index++) {\n",
    "            if (values[index] > max) {\n",
    "                max = values[index];\n",
    "            }\n",
    "        }\n",
    "    \n",
    "        return max;\n",
    "    }\n",
    "    \n",
    "    public static void main(String[] args) {\n",
    "        double[] nums = {1.0, 3.0, 2.0, 2.0, 1.0, 5.0, 2.421, 4.0, 61.0, 2.0, 51.0, 120.0};\n",
    "        ArrayListExample example = new ArrayListExample();\n",
    "        double max = example.findMax(nums);\n",
    "        System.out.println(\"Maximum value: \" + max);\n",
    "    }\n",
    "}\n",
    "\n",
    "ArrayListExample.main(null);"
   ]
  },
  {
   "cell_type": "markdown",
   "metadata": {},
   "source": [
    "#### Now, how can we modify this to use an ArrayList?"
   ]
  },
  {
   "cell_type": "code",
   "execution_count": 2,
   "metadata": {
    "vscode": {
     "languageId": "java"
    }
   },
   "outputs": [
    {
     "name": "stdout",
     "output_type": "stream",
     "text": [
      "Maximum value: 384.0\n"
     ]
    }
   ],
   "source": [
    "public class ArrayListExample {\n",
    "    private double findMax(ArrayList<Double> values) {\n",
    "        double max = values.get(0);\n",
    "    \n",
    "        for (int index = 1; index < values.size(); index++) {\n",
    "            if (values.get(index) > max) {\n",
    "                max = values.get(index);\n",
    "            }\n",
    "        }\n",
    "    \n",
    "        return max;\n",
    "    }\n",
    "    \n",
    "    public static void main(String[] args) {\n",
    "        ArrayList<Double> nums = new ArrayList<>();\n",
    "        nums.add(41.0);\n",
    "        nums.add(384.0);\n",
    "        nums.add(2.0);\n",
    "        nums.add(25.0);\n",
    "        nums.add(11.0);\n",
    "        nums.add(120.0);\n",
    "        nums.add(21.0);\n",
    "        nums.add(4.03);\n",
    "        nums.add(6.0);\n",
    "        nums.add(2.230);\n",
    "        nums.add(25.01);\n",
    "        nums.add(10.420);\n",
    "        \n",
    "        ArrayListExample example = new ArrayListExample();\n",
    "        double max = example.findMax(nums);\n",
    "        System.out.println(\"Maximum value: \" + max);\n",
    "    }\n",
    "}\n",
    "\n",
    "ArrayListExample.main(null);"
   ]
  },
  {
   "cell_type": "markdown",
   "metadata": {},
   "source": [
    "Homework:\n",
    "\n",
    "(Paragraph Answer)\n",
    "1. What is the difference between the two examples above. Which one is better and why?\n",
    "\n",
    "\n",
    "In the first example, you add values when you initialize the list, and the number of values cannot be changed, as the size of an array in Java cannot be changed. Only the values can be changed. In the second example, we use the add method to add all of the values in. The ArrayList has a dynamic number of values, meaning you can add however many you like, and remove however many you like without making any errors. They each have their own uses, and in this case, I think the normal array would be better, because it is way easier to add the values in. Because we don't really have to add any extra numbers into the list, there is no reason to use an arraylist, so arrays is better.\n",
    "\n",
    "\n",
    "(Code Answer)\n",
    "\n",
    "2. Make your own algorithm using ArrayLists. Do not use the size and get methods, those are way too easy!"
   ]
  },
  {
   "cell_type": "code",
   "execution_count": 4,
   "metadata": {
    "vscode": {
     "languageId": "java"
    }
   },
   "outputs": [
    {
     "name": "stdout",
     "output_type": "stream",
     "text": [
      "Names:\n",
      "jimmy\n",
      "bob\n",
      "joe\n",
      "removed last name!\n",
      "Names:\n",
      "jimmy\n",
      "bob\n"
     ]
    }
   ],
   "source": [
    "import java.util.ArrayList;\n",
    "\n",
    "ArrayList<String> names = new ArrayList<>();\n",
    "\n",
    "public static void addName(String name) {\n",
    "    names.add(name);\n",
    "}\n",
    "\n",
    "public static void removeLastName() {\n",
    "    System.out.println(\"removed last name!\");\n",
    "    for (int i = 0; i < names.size(); i++) {\n",
    "        if (i == names.size() - 1) {\n",
    "            names.remove(i);\n",
    "        }\n",
    "    }\n",
    "}\n",
    "\n",
    "public static void printNames() {\n",
    "    System.out.println(\"Names:\");\n",
    "    for (String name : names) {\n",
    "        System.out.println(name);\n",
    "    }\n",
    "}\n",
    "\n",
    "addName(\"jimmy\");\n",
    "addName(\"bob\");\n",
    "addName(\"joe\");\n",
    "printNames();\n",
    "removeLastName();\n",
    "printNames();"
   ]
  }
 ],
 "metadata": {
  "kernelspec": {
   "display_name": "Java",
   "language": "java",
   "name": "java"
  },
  "language_info": {
   "codemirror_mode": "java",
   "file_extension": ".jshell",
   "mimetype": "text/x-java-source",
   "name": "Java",
   "pygments_lexer": "java",
   "version": "17.0.12+7-Ubuntu-1ubuntu222.04"
  }
 },
 "nbformat": 4,
 "nbformat_minor": 2
}
