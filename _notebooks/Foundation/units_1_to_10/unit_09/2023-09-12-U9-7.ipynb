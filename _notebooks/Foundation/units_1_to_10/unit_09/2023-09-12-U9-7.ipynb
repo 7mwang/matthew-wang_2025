{
 "cells": [
  {
   "cell_type": "raw",
   "metadata": {},
   "source": [
    "---\n",
    "layout: post\n",
    "title:  9.7 Object Superclass\n",
    "courses: { csse: {week: 1}, csp: {week: 1}, csa: {week: 1} }\n",
    "categories: [DevOps]\n",
    "permalink: /inheritance/object-superclass\n",
    "menu: nav/inheritance.html\n",
    "comments: true\n",
    "sticky_rank: 1\n",
    "---"
   ]
  },
  {
   "cell_type": "markdown",
   "metadata": {},
   "source": [
    "## Object Superclass"
   ]
  },
  {
   "cell_type": "markdown",
   "metadata": {},
   "source": [
    "Learning Targets: \n",
    "   * What is the *Object* class\n",
    "   * Why is the *Object* class important to remember"
   ]
  },
  {
   "cell_type": "markdown",
   "metadata": {},
   "source": [
    "***"
   ]
  },
  {
   "cell_type": "markdown",
   "metadata": {},
   "source": [
    "Every class and object created **without** the ```extends``` keyword will be implicitly extended from the **[Object Superclass](https://docs.oracle.com/javase/8/docs/api/java/lang/Object.html)**. This means it will inherit some basic methods. Some notable methods are:\n",
    "1. ```getClass()```\n",
    "2. ```toString()```\n",
    "3. ```equals()```"
   ]
  },
  {
   "cell_type": "markdown",
   "metadata": {},
   "source": [
    "### So What?\n",
    "Well its important to keep in mind when writing out your class. If you are planning to have a **method** in your class/object that **matches** the basic **Object**, then it **must** be a ```public override``` because all of the Object methods are public.\n",
    "* are some methods from Object such as **getClass()** that you **cannot** override."
   ]
  },
  {
   "cell_type": "code",
   "execution_count": null,
   "metadata": {
    "vscode": {
     "languageId": "java"
    }
   },
   "outputs": [],
   "source": [
    "// this will return an error\n",
    "class Shape {\n",
    "    String toString(){\n",
    "        return \"Shape\";\n",
    "    }\n",
    "}"
   ]
  },
  {
   "cell_type": "code",
   "execution_count": 2,
   "metadata": {
    "vscode": {
     "languageId": "java"
    }
   },
   "outputs": [],
   "source": [
    "// this will be fine\n",
    "class Shape{\n",
    "    @Override\n",
    "    public String toString(){\n",
    "        return \"Shape\";\n",
    "    }\n",
    "}"
   ]
  },
  {
   "cell_type": "markdown",
   "metadata": {},
   "source": [
    "## Popcorn Hacks\n",
    "Create an example where you execute an unchanged method from *Object*, then execute a different method from *Object* that you changed."
   ]
  },
  {
   "cell_type": "code",
   "execution_count": 3,
   "metadata": {
    "vscode": {
     "languageId": "java"
    }
   },
   "outputs": [
    {
     "name": "stdout",
     "output_type": "stream",
     "text": [
      "50.0\n",
      "6.0\n",
      "25.0\n",
      "314.1592653589793\n",
      "class REPL.$JShell$16$Rectangle\n",
      "turned me into a string, funniest thing ive ever seen\n"
     ]
    }
   ],
   "source": [
    "class Shape {\n",
    "    public String draw() {\n",
    "        return \"Drawing a shape\";\n",
    "    }\n",
    "    public double area() {\n",
    "        return 0; // Default implementation\n",
    "    }\n",
    "    @Override\n",
    "    public String toString() {\n",
    "        return \"turned me into a string, funniest thing ive ever seen\";\n",
    "    }\n",
    "}\n",
    "\n",
    "class Circle extends Shape {\n",
    "    private int radius;\n",
    "    public Circle(int radius) {\n",
    "        this.radius = radius;\n",
    "    }\n",
    "\n",
    "    @Override\n",
    "    public double area() {\n",
    "        return Math.PI*Math.pow(radius, 2);\n",
    "    }\n",
    "}\n",
    "\n",
    "class Square extends Shape {\n",
    "    private int length;\n",
    "    public Square(int length) {\n",
    "        this.length = length;\n",
    "    }\n",
    "    @Override\n",
    "    public double area() {\n",
    "        return Math.pow(length, 2);\n",
    "    }\n",
    "}\n",
    "\n",
    "class Triangle extends Shape {\n",
    "    private int side1;\n",
    "    private int side2;\n",
    "    private int side3;\n",
    "    public Triangle(int s1, int s2, int s3) {\n",
    "        this.side1 = s1;\n",
    "        this.side2 = s2;\n",
    "        this.side3 = s3;\n",
    "    }\n",
    "    \n",
    "    @Override\n",
    "    public double area() {\n",
    "        double area = 0;\n",
    "        int s = (side1 + side2 + side3) / 2;\n",
    "        area = Math.sqrt(s * (s - side1) * (s - side2) * (s - side3));\n",
    "        return area;\n",
    "    }\n",
    "}\n",
    "\n",
    "class Rectangle extends Shape {\n",
    "    private int length;\n",
    "    private int width;\n",
    "    public Rectangle(int length, int width) {\n",
    "        this.length = length;\n",
    "        this.width = width;\n",
    "    }\n",
    "    @Override\n",
    "    public double area() {\n",
    "        return length*width;\n",
    "    }\n",
    "}\n",
    "\n",
    "public class Main {\n",
    "    public static void main(String[] args) {\n",
    "        Rectangle aaah = new Rectangle(10, 5);\n",
    "        Triangle beaa = new Triangle(3, 4, 5);\n",
    "        Square dddd = new Square(5);\n",
    "        Circle ddaa = new Circle(10);\n",
    "\n",
    "        System.out.println(aaah.area());\n",
    "        System.out.println(beaa.area());\n",
    "        System.out.println(dddd.area());\n",
    "        System.out.println(ddaa.area());\n",
    "\n",
    "        System.out.println(aaah.getClass()); \n",
    "\n",
    "        System.out.println(aaah.toString()); \n",
    "    }\n",
    "}\n",
    "\n",
    "Main.main(null);"
   ]
  }
 ],
 "metadata": {
  "kernelspec": {
   "display_name": "Java",
   "language": "java",
   "name": "java"
  },
  "language_info": {
   "codemirror_mode": "java",
   "file_extension": ".jshell",
   "mimetype": "text/x-java-source",
   "name": "Java",
   "pygments_lexer": "java",
   "version": "17.0.12+7-Ubuntu-1ubuntu222.04"
  }
 },
 "nbformat": 4,
 "nbformat_minor": 2
}
