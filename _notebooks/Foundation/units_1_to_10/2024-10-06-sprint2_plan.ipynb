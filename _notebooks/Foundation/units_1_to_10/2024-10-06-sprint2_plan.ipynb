{
 "cells": [
  {
   "cell_type": "raw",
   "metadata": {
    "vscode": {
     "languageId": "raw"
    }
   },
   "source": [
    "---\n",
    "layout: post\n",
    "title: Sprint 2 - CSA Objectives \n",
    "description:  Student Teach and Software Development Objectives for Sprint 2\n",
    "type: issues \n",
    "courses: { csa: {week: 3} }\n",
    "comments: true\n",
    "---"
   ]
  },
  {
   "cell_type": "markdown",
   "metadata": {},
   "source": [
    "## Issues\n",
    "Teacher and Peer evaluation are critical to our success and improvements.   Be sure to support meeting objectives by providing feedback and acting on feedback received."
   ]
  },
  {
   "cell_type": "markdown",
   "metadata": {},
   "source": [
    "## Student Teaching - Part 1 Fundamentals\n",
    "\n",
    "Students will engage in lesson preparation, teaching, and grading. This activity is often called \"Team Teach\". The process and purpose are as follows:\n",
    "\n",
    "1. Learn Units #1-#10 from the College Board.\n",
    "2. Build a lesson using Java for each of the topics provided by the teacher's starters.\n",
    "3. The lesson should include a Tech Talk portion, popcorn hacks, and homework hacks. The lesson should NOT have more than 5 minutes of talking before engaging students in an activity (e.g., popcorn hacks).\n",
    "4. Be prepared to grade homework. This means having a plan for homework and a plan for grading the homework. You will grade on a \"1-point\" scale. Weight popcorn hacks and homework hacks in the grading.\n",
    "5. Lesson time will be between 20 and 30 minutes. Homework time should be about the same as lesson time."
   ]
  },
  {
   "cell_type": "markdown",
   "metadata": {},
   "source": [
    "### Lesson Building \n",
    "\n",
    "#### Grading Guideline\n",
    "- 55% is minimum per item\n",
    "- 75% is mostly done\n",
    "- 85% is complete\n",
    "- 90% is maximum perfection\n",
    "\n",
    "| **Assignment**             | **Points**    | **Grade** | **Evidence** |\n",
    "|----------------------------|---------------|-----------|--------------|\n",
    "| Pull Request (Integration) | 2             | 1.1*     |![image](https://github.com/user-attachments/assets/ac9cd5a9-0755-4969-8b3d-815ca2115131)![image](https://github.com/user-attachments/assets/64712ef6-47dd-4729-b58f-24b87b4db4c7)|\n",
    "| Relevancy Checklist (Peer) | 2             |           |Below         |\n",
    "| Lesson (Group)             | 1             |.93        |![image](https://github.com/user-attachments/assets/fdd787bc-3e30-438b-9728-edb00f5e3a37)|\n",
    "| Homework, Popcorn Hacks    | 1 x 7         |6.39 tentative       |[Grading Sheets](https://docs.google.com/spreadsheets/d/1sGQtZm9GI2Rze5F7Eh_P1CMNO8Fyag4bCtOT0ddARmc/edit?gid=0#gid=0)|\n",
    "| Individual Contribution    | 1             |.9        |[My Commits](https://github.com/7mwang/2D-Array-Lesson_2025/commits/main/?author=7mwang)              |\n",
    "| Personal Notebooks / Blogs | 1             |.85        |[My Blogs](https://7mwang.github.io/matthew-wang_2025/blogs/) I have all lessons and homeworks, but nothing really special              |\n",
    "| **Total**                  | 12            |           |              |\n",
    "\n",
    "\n",
    "| **Skill**                  | **Points**    | **Grade** | **Evidence** |\n",
    "|----------------------------|---------------|-----------|--------------|\n",
    "| Work Habits (Analytics)    |   1           |.88           | ![image](https://github.com/user-attachments/assets/9eb2bb7c-3c24-4e1a-9c40-9ed41e117c49)Nice commits, I coordinated a lot with my team, and improved lesson after teaching             |\n",
    "| Team Planning (Issue)      |   1           |.85           |![image](https://github.com/user-attachments/assets/43045194-9874-4237-98ac-64985b3582da)|\n",
    "| Presentation Memories      |   1           |.85           |[Lesson](https://nighthawkcoders.github.io/portfolio_2025/unit8lesson-p1) contained interesting algorithm examples, such as rotating a 2D array, or performing a binary search on 2D arrays, as well as having some pictures in the accessing section that better demonstrated what a 2D array looks like, so students can better understand the concept|\n",
    "| Grading and Feedback       |   1           |.90           |![image](https://github.com/user-attachments/assets/4058d8ba-da46-436f-a4cd-d5f7e808355f)|\n",
    "| Beyond Perfunctory         |   1           |.85           |[Lesson](https://nighthawkcoders.github.io/portfolio_2025/unit8lesson-p1), Kept lesson content to-the-point in teaching the basics of 2D Arrays, but also had a mix of advanced content at the end of the lesson in algorithms, assigned a college board homework hack which would be very realistic to the AP test to prepare students for the standards that college board will be looking for, also submitted more pull requests to add content to lessons post-teach| \n",
    "| **Total**                  |   5           |4.33           |Things like going above and beyond and memories could need some improvement, so lessons REALLY stick with students.              |\n",
    "\n",
    "#### Raw Form\n",
    "\n",
    "```text\n",
    "| **Assignment**             | **Points**    | **Grade** | **Evidence** |\n",
    "|----------------------------|---------------|-----------|--------------|\n",
    "| Pull Request (Integration) | 2             |           |              |\n",
    "| Relevancy Checklist (Peer) | 2             |           |              |\n",
    "| Lesson (Group)             | 1             |           |              |\n",
    "| Homework, Popcorn Hacks    | 1 x 8         |           |              |\n",
    "| Individual Contribution    | 1             |           |              |\n",
    "| Personal Notebooks / Blogs | 1             |           |              |\n",
    "| Total                      | 12            |           |              |\n",
    "\n",
    "\n",
    "| **Skill**                  | **Points**    | **Grade** | **Evidence** |\n",
    "|----------------------------|---------------|-----------|--------------|\n",
    "| Work Habits (Analytics)    |   1           |           |              |\n",
    "| Team Planning (Issue)      |   1           |           |              |\n",
    "| Presentation Memories      |   1           |           |              |\n",
    "| Grading and Feedback       |   1           |           |              |\n",
    "| Beyond Perfunctory         |   1           |           |              | \n",
    "| Total                      |   5           |           |              |\n",
    "```"
   ]
  },
  {
   "cell_type": "markdown",
   "metadata": {},
   "source": [
    "### Lesson Review - Topic Relevancy (Stdent Review)\n",
    "\n",
    "Peer review checklist.  Guidance\n",
    "\n",
    "- Scrum Master should coordinate.\n",
    "\n",
    "- Peer grading should be coordinated in Slack, if there are any issues.\n",
    "\n",
    "- Lesson providers will receive reviews from a peers in another class, doing the same topic, by enabling Utterances on your topic(s).\n",
    "\n",
    "- Peer graders will grade on Utterances.  Be sure two people provide a review to every section of lesson (ie 2 reviews on intro, 2 reviews on .1, 2 reviews on .2, ...).  \n",
    "\n",
    "- Assignments are to review corresponding topics in other classes where possible.  Otherwise review topic that does not match one taught in classroom.\n",
    "\n",
    "Note 1. **Student reviewers will be evaluated on how and if you perform a review** \n",
    "Note 2. **Student lesson providers will be evaluated if they improve lesson based off of feedback.  Remebmer/document your changes**\n",
    "\n",
    "\n",
    "#### Relevancy Checklist\n",
    "\n",
    "| **Assignment**          | **Weightage** | **Grade** | **Comments** |\n",
    "|-------------------------|---------------|-----------|--------------|\n",
    "| College Board Coverage  | 20            | TBD       | TBD          |\n",
    "| Java Examples           | 30            | TBD       | TBD          |\n",
    "| Popcorn Hack Usage      | 10            | TBD       | TBD          |\n",
    "| Homework                | 10            | TBD       | TBD          |\n",
    "| Grading Plan            | 10            | TBD       | TBD          |\n",
    "| Original an Creative    | 10            | TBD       | TBD          |\n",
    "| **Total**               | **90**        |           |              |\n",
    "\n",
    "#### Raw Form\n",
    "\n",
    "```text\n",
    "| **Assignment**          | **Weightage** | **Grade** | **Comments** |\n",
    "|-------------------------|---------------|-----------|--------------|\n",
    "| College Board Coverage  | 20            | TBD       | TBD          |\n",
    "| Java Examples           | 30            | TBD       | TBD          |\n",
    "| Popcorn Hack Usage      | 10            | TBD       | TBD          |\n",
    "| Homework                | 10            | TBD       | TBD          |\n",
    "| Grading Plan            | 10            | TBD       | TBD          |\n",
    "| Original an Creative    | 10            | TBD       | TBD          |\n",
    "| Total                  | **90**        |           |              |\n",
    "```"
   ]
  }
 ],
 "metadata": {
  "language_info": {
   "name": "python"
  }
 },
 "nbformat": 4,
 "nbformat_minor": 2
}
