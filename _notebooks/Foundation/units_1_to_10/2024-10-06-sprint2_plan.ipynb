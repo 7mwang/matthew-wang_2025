{
 "cells": [
  {
   "cell_type": "raw",
   "metadata": {
    "vscode": {
     "languageId": "raw"
    }
   },
   "source": [
    "---\n",
    "layout: post\n",
    "title: Sprint 2 - Checklist\n",
    "description:  Checklist for closing off Sprint 2\n",
    "type: issues \n",
    "comments: true\n",
    "---"
   ]
  },
  {
   "cell_type": "markdown",
   "metadata": {},
   "source": [
    "### Lesson Building \n",
    "\n",
    "| **Assignment**             | **Points**    | **Grade** | **Evidence** |\n",
    "|----------------------------|---------------|-----------|--------------|\n",
    "| Pull Request (Integration) | 2             | 1.1*     |![image](https://github.com/user-attachments/assets/ac9cd5a9-0755-4969-8b3d-815ca2115131)![image](https://github.com/user-attachments/assets/64712ef6-47dd-4729-b58f-24b87b4db4c7)|\n",
    "| Relevancy Checklist (Peer) | 2             |1.8           |Below         |\n",
    "| Lesson (Group)             | 1             |.93        |![image](https://github.com/user-attachments/assets/fdd787bc-3e30-438b-9728-edb00f5e3a37)|\n",
    "| Homework, Popcorn Hacks    | 1 x 7         |6.39 tentative       |[Grading Sheets](https://docs.google.com/spreadsheets/d/1sGQtZm9GI2Rze5F7Eh_P1CMNO8Fyag4bCtOT0ddARmc/edit?gid=0#gid=0)|\n",
    "| Individual Contribution    | 1             |.9        |[My Commits](https://github.com/7mwang/2D-Array-Lesson_2025/commits/main/?author=7mwang)              |\n",
    "| Personal Notebooks / Blogs | 1             |.85        |[My Blogs](https://7mwang.github.io/matthew-wang_2025/blogs/) I have all lessons and homeworks, but nothing really special              |\n",
    "| **Total**                  | 14            |11.97    |              |\n",
    "\n",
    "\n",
    "| **Skill**                  | **Points**    | **Grade** | **Evidence** |\n",
    "|----------------------------|---------------|-----------|--------------|\n",
    "| Work Habits (Analytics)    |   1           |.88           | ![image](https://github.com/user-attachments/assets/9eb2bb7c-3c24-4e1a-9c40-9ed41e117c49)Nice commits, I coordinated a lot with my team, and improved lesson after teaching             |\n",
    "| Team Planning (Issue)      |   1           |.85           |![image](https://github.com/user-attachments/assets/43045194-9874-4237-98ac-64985b3582da)|\n",
    "| Presentation Memories      |   1           |.85           |[Lesson](https://nighthawkcoders.github.io/portfolio_2025/unit8lesson-p1) contained interesting algorithm examples, such as rotating a 2D array, or performing a binary search on 2D arrays, as well as having some pictures in the accessing section that better demonstrated what a 2D array looks like, so students can better understand the concept|\n",
    "| Grading and Feedback       |   1           |.90           |![image](https://github.com/user-attachments/assets/4058d8ba-da46-436f-a4cd-d5f7e808355f)|\n",
    "| Beyond Perfunctory         |   1           |.85           |[Lesson](https://nighthawkcoders.github.io/portfolio_2025/unit8lesson-p1), Kept lesson content to-the-point in teaching the basics of 2D Arrays, but also had a mix of advanced content at the end of the lesson in algorithms, assigned a college board homework hack which would be very realistic to the AP test to prepare students for the standards that college board will be looking for, also submitted more pull requests to add content to lessons post-teach| \n",
    "| **Total**                  |   5           |4.33           |Things like going above and beyond and memories could need some improvement, so lessons REALLY stick with students.              |\n",
    "\n",
    "*Plans for makeup already in place"
   ]
  },
  {
   "cell_type": "markdown",
   "metadata": {},
   "source": [
    "### Lesson Review - Topic Relevancy\n",
    "\n",
    "#### Relevancy Checklist\n",
    "\n",
    "Reviews exchanged with Arthur Liu and David Lee, Scores averaged, comments combined\n",
    "\n",
    "| **Assignment**          | **Weightage** | **Grade** | **Comments** |\n",
    "|-------------------------|---------------|-----------|--------------|\n",
    "| College Board Coverage  | 20            | 19       |Had complete coverage over all College Board curriculum, including other key details like jagged arrays. Also has questions commonly tested by College Board to teach students what to expect on the AP test and how to prepare for it. Covered all college board material |\n",
    "| Java Examples           | 30            | 27.5       |Java examples are very strong, organized, and well thought out. All the examples have comments explaining what the code means. None of the java code blocks are extremely long which helps keeps students engaged. Lots of the examples also have a visual to help students visualize concepts which is memorable and effective. For example, the visuals for binary search (what it is and its applications) made understanding your java examples much easier. Provided good java examples that demonstrated knowledge |\n",
    "| Popcorn Hack Usage      | 10            | 9       | Popcorn hacks are relevant to the lesson taught. There are lots of popcorn hacks spread across all the lessons to keep students engaged and make sure they are learning the material. Some are of the hacks are more challenging to get the students thinking and to apply their knowledge, and some other taken from College Board which allows students to prepare for the AP test better. Good placement of hacks that confirmed students' understanding.  |\n",
    "| Homework                | 10            | 9       | The homework hacks incorporate knowledge from every section in the lesson to ensure students can get practice and feedback on everything in the lesson. Some of the homework hacks are also taken from College Board which is good. Good homeworks overall.      |\n",
    "| Grading Plan            | 10            | 9      | Grading seems fair and solid. Am a little confused on what \"Grade (1-4)\" represents or how they are being given to students. Comments on each student seems solid, but maybe could provide some personalized feedback if they did anything wrong in their code. Organized and straightforward grading.         |\n",
    "| Original an Creative    | 10            | 8.5       | The lesson seems creative and unique. The examples with visuals accompanying them is memorable. Text in lesson is pretty short with more of an emphasis on the examples, visuals, and hacks which keeps students interactive and engaged, helping them learn the lesson better.     |\n",
    "| **Total**               | **90**        |   82       | Overall, the lesson plan is well-designed and effective, covering the necessary curriculum thoroughly and keeping students engaged through relevant examples and interactive activities. The use of visuals and concise explanations helps make complex concepts more understandable. While the grading plan is solid, more personalized feedback could improve it. The lesson also shows creativity, with a focus on practical applications and interactive elements to enhance student learning.             |\n"
   ]
  }
 ],
 "metadata": {
  "language_info": {
   "name": "python"
  }
 },
 "nbformat": 4,
 "nbformat_minor": 2
}
