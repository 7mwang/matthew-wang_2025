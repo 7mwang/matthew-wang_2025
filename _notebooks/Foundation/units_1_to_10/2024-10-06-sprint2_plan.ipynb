{
 "cells": [
  {
   "cell_type": "raw",
   "metadata": {
    "vscode": {
     "languageId": "raw"
    }
   },
   "source": [
    "---\n",
    "layout: post\n",
    "title: Sprint 2 - Checklist\n",
    "description:  Checklist for closing off Sprint 2\n",
    "type: issues \n",
    "comments: true\n",
    "---"
   ]
  },
  {
   "cell_type": "markdown",
   "metadata": {},
   "source": [
    "### Lesson Building \n",
    "\n",
    "| **Assignment**             | **Points**    | **Grade** | **Evidence** |\n",
    "|----------------------------|---------------|-----------|--------------|\n",
    "| Pull Request (Integration) | 2             | 1.1*     |![image](https://github.com/user-attachments/assets/ac9cd5a9-0755-4969-8b3d-815ca2115131)![image](https://github.com/user-attachments/assets/64712ef6-47dd-4729-b58f-24b87b4db4c7)|\n",
    "| Relevancy Checklist (Peer) | 2             |           |Below         |\n",
    "| Lesson (Group)             | 1             |.93        |![image](https://github.com/user-attachments/assets/fdd787bc-3e30-438b-9728-edb00f5e3a37)|\n",
    "| Homework, Popcorn Hacks    | 1 x 7         |6.39 tentative       |[Grading Sheets](https://docs.google.com/spreadsheets/d/1sGQtZm9GI2Rze5F7Eh_P1CMNO8Fyag4bCtOT0ddARmc/edit?gid=0#gid=0)|\n",
    "| Individual Contribution    | 1             |.9        |[My Commits](https://github.com/7mwang/2D-Array-Lesson_2025/commits/main/?author=7mwang)              |\n",
    "| Personal Notebooks / Blogs | 1             |.85        |[My Blogs](https://7mwang.github.io/matthew-wang_2025/blogs/) I have all lessons and homeworks, but nothing really special              |\n",
    "| **Total**                  | 12            |           |              |\n",
    "\n",
    "\n",
    "| **Skill**                  | **Points**    | **Grade** | **Evidence** |\n",
    "|----------------------------|---------------|-----------|--------------|\n",
    "| Work Habits (Analytics)    |   1           |.88           | ![image](https://github.com/user-attachments/assets/9eb2bb7c-3c24-4e1a-9c40-9ed41e117c49)Nice commits, I coordinated a lot with my team, and improved lesson after teaching             |\n",
    "| Team Planning (Issue)      |   1           |.85           |![image](https://github.com/user-attachments/assets/43045194-9874-4237-98ac-64985b3582da)|\n",
    "| Presentation Memories      |   1           |.85           |[Lesson](https://nighthawkcoders.github.io/portfolio_2025/unit8lesson-p1) contained interesting algorithm examples, such as rotating a 2D array, or performing a binary search on 2D arrays, as well as having some pictures in the accessing section that better demonstrated what a 2D array looks like, so students can better understand the concept|\n",
    "| Grading and Feedback       |   1           |.90           |![image](https://github.com/user-attachments/assets/4058d8ba-da46-436f-a4cd-d5f7e808355f)|\n",
    "| Beyond Perfunctory         |   1           |.85           |[Lesson](https://nighthawkcoders.github.io/portfolio_2025/unit8lesson-p1), Kept lesson content to-the-point in teaching the basics of 2D Arrays, but also had a mix of advanced content at the end of the lesson in algorithms, assigned a college board homework hack which would be very realistic to the AP test to prepare students for the standards that college board will be looking for, also submitted more pull requests to add content to lessons post-teach| \n",
    "| **Total**                  |   5           |4.33           |Things like going above and beyond and memories could need some improvement, so lessons REALLY stick with students.              |"
   ]
  },
  {
   "cell_type": "markdown",
   "metadata": {},
   "source": [
    "### Lesson Review - Topic Relevancy\n",
    "\n",
    "#### Relevancy Checklist\n",
    "\n",
    "Exchanged reviews with David Lee and Arthur Liu\n",
    "\n",
    "| **Assignment**          | **Weightage** | **Grade** | **Comments** |\n",
    "|-------------------------|---------------|-----------|--------------|\n",
    "| College Board Coverage  | 20            | TBD       | TBD          |\n",
    "| Java Examples           | 30            | TBD       | TBD          |\n",
    "| Popcorn Hack Usage      | 10            | TBD       | TBD          |\n",
    "| Homework                | 10            | TBD       | TBD          |\n",
    "| Grading Plan            | 10            | TBD       | TBD          |\n",
    "| Original an Creative    | 10            | TBD       | TBD          |\n",
    "| **Total**               | **90**        |           |              |"
   ]
  }
 ],
 "metadata": {
  "language_info": {
   "name": "python"
  }
 },
 "nbformat": 4,
 "nbformat_minor": 2
}
