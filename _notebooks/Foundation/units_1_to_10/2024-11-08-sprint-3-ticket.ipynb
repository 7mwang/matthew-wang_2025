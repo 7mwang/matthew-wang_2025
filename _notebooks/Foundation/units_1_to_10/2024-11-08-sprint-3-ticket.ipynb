{
 "cells": [
  {
   "cell_type": "markdown",
   "metadata": {
    "vscode": {
     "languageId": "plaintext"
    }
   },
   "source": [
    "| **Assignment**                | **Points**    | **Grade** | **Evidence** |\n",
    "|-------------------------------|---------------|-----------|--------------|\n",
    "| Tri 1-3 Review Ticket         | 3             |           |              |\n",
    "| Sprint 3 Team Issue(s)/Plan   | 2             |           |              |\n",
    "| Beginning-2-End Contribution  | 2             |           |              |\n",
    "| N@tM Team Presentation        | 2             |           |              |\n",
    "| Live Review Indi Demo         | 1             |           |              |\n",
    "| **Total**                     | 10            |           |              |\n",
    "\n",
    "| **Skill**                  | **Points**    | **Grade** | **Evidence** |\n",
    "|----------------------------|---------------|-----------|--------------|\n",
    "| Work Habits (Analytics)    | 1             |           |              |\n",
    "| Evidence of Role in Team   | 1             |           |              | \n",
    "| Function / Purpose Design  | 1             |           |              | \n",
    "| Live Review                | 2             |           |              | \n",
    "| **Total**                  | 5             |           |              |"
   ]
  }
 ],
 "metadata": {
  "language_info": {
   "name": "python"
  }
 },
 "nbformat": 4,
 "nbformat_minor": 2
}
