{
 "cells": [
  {
   "cell_type": "markdown",
   "metadata": {},
   "source": [
    "---\n",
    "layout: post\n",
    "title: testy toasty\n",
    "comments: true\n",
    "---"
   ]
  },
  {
   "cell_type": "markdown",
   "metadata": {
    "vscode": {
     "languageId": "html"
    }
   },
   "source": [
    "<title>Theme Switcher</title>\n",
    "<button id=\"theme-toggle\">Toggle Theme</button>\n",
    "<h1 class=\"site-title\">Welcome to My Website</h1>\n",
    "<p class=\"page-description\">This is a demo of a theme switcher.</p>\n",
    "<script>\n",
    "document.getElementById('theme-toggle').addEventListener('click', function() {\n",
    "    document.documentElement.classList.toggle('light-theme');\n",
    "    // Update button text based on the current theme\n",
    "    if (document.documentElement.classList.contains('light-theme')) {\n",
    "        this.textContent = 'Switch to Dark Theme';\n",
    "    } else {\n",
    "        this.textContent = 'Switch to Light Theme';\n",
    "    }\n",
    "});\n",
    "// Set initial button text based on the current theme\n",
    "document.addEventListener('DOMContentLoaded', function() {\n",
    "    const button = document.getElementById('theme-toggle');\n",
    "    if (document.documentElement.classList.contains('light-theme')) {\n",
    "        button.textContent = 'Switch to Dark Theme';\n",
    "    } else {\n",
    "        button.textContent = 'Switch to Light Theme';\n",
    "    }\n",
    "});\n",
    "</script>"
   ]
  }
 ],
 "metadata": {
  "language_info": {
   "name": "python"
  }
 },
 "nbformat": 4,
 "nbformat_minor": 2
}
