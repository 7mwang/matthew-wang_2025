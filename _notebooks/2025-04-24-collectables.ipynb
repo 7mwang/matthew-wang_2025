{
 "cells": [
  {
   "cell_type": "markdown",
   "id": "f5d89276",
   "metadata": {},
   "source": [
    "---\n",
    "layout: post\n",
    "title: Collectables HW\n",
    "permalink: /collectables\n",
    "comments: True\n",
    "---"
   ]
  },
  {
   "cell_type": "code",
   "execution_count": 5,
   "id": "cd7efcb0",
   "metadata": {
    "vscode": {
     "languageId": "java"
    }
   },
   "outputs": [
    {
     "data": {
      "text/plain": [
       "[2, 4]"
      ]
     },
     "execution_count": 5,
     "metadata": {},
     "output_type": "execute_result"
    }
   ],
   "source": [
    "// part 1\n",
    "import java.util.ArrayList;\n",
    "import java.util.List;\n",
    "\n",
    "public class ListUtils {\n",
    "    public static List<Integer> getEvenNumbers(List<Integer> numbers) {\n",
    "        List<Integer> evens = new ArrayList<>();\n",
    "        for (int i = 0; i < numbers.size(); i++) {\n",
    "            int num = numbers.get(i);\n",
    "            if (num % 2 == 0) {\n",
    "                evens.add(num);\n",
    "            }\n",
    "        }\n",
    "        return evens;\n",
    "    }\n",
    "}\n",
    "List<Integer> numbers = new ArrayList<>();\n",
    "numbers.add(1);\n",
    "numbers.add(3);\n",
    "numbers.add(2);\n",
    "numbers.add(4);\n",
    "ListUtils.getEvenNumbers(numbers);\n"
   ]
  },
  {
   "cell_type": "code",
   "execution_count": 9,
   "id": "5b536dda",
   "metadata": {
    "vscode": {
     "languageId": "java"
    }
   },
   "outputs": [
    {
     "data": {
      "text/plain": [
       "[2, 3]"
      ]
     },
     "execution_count": 9,
     "metadata": {},
     "output_type": "execute_result"
    }
   ],
   "source": [
    "// part 2\n",
    "import java.util.HashSet;\n",
    "import java.util.Set;\n",
    "\n",
    "public class SetUtils {\n",
    "    public static Set<Integer> getIntersection(Set<Integer> set1, Set<Integer> set2) {\n",
    "        Set<Integer> intersection = new HashSet<>();\n",
    "        for (Integer element : set1) {\n",
    "            if (set2.contains(element)) {\n",
    "                intersection.add(element);\n",
    "            }\n",
    "        }\n",
    "        return intersection;\n",
    "    }\n",
    "}\n",
    "\n",
    "Set<Integer> nums = new HashSet<>();\n",
    "        \n",
    "nums.add(1);\n",
    "nums.add(2);\n",
    "nums.add(3);\n",
    "\n",
    "Set<Integer> nums2 = new HashSet<>();\n",
    "        \n",
    "nums2.add(2);\n",
    "nums2.add(3);\n",
    "nums2.add(4);\n",
    "\n",
    "SetUtils.getIntersection(nums, nums2);"
   ]
  },
  {
   "cell_type": "code",
   "execution_count": 11,
   "id": "8dc0993c",
   "metadata": {
    "vscode": {
     "languageId": "java"
    }
   },
   "outputs": [
    {
     "name": "stdout",
     "output_type": "stream",
     "text": [
      "Front of the line: Customer1\n",
      "Back of the line: Customer3\n",
      "Line size: 3\n"
     ]
    }
   ],
   "source": [
    "// part 3\n",
    "import java.util.ArrayDeque;\n",
    "import java.util.Deque;\n",
    "\n",
    "public class DequeDemo {\n",
    "    public static void simulateLine() {\n",
    "        Deque<String> line = new ArrayDeque<>();\n",
    "\n",
    "        line.addLast(\"Customer1\");\n",
    "        line.addLast(\"Customer2\");\n",
    "        line.addLast(\"Customer3\");\n",
    "\n",
    "        line.addFirst(\"VIP\");\n",
    "\n",
    "        line.removeFirst();\n",
    "\n",
    "        System.out.println(\"Front of the line: \" + line.peekFirst());\n",
    "        System.out.println(\"Back of the line: \" + line.peekLast());\n",
    "\n",
    "        System.out.println(\"Line size: \" + line.size());\n",
    "    }\n",
    "}\n",
    "\n",
    "DequeDemo.simulateLine();"
   ]
  },
  {
   "cell_type": "markdown",
   "id": "cd6a8ccd",
   "metadata": {
    "vscode": {
     "languageId": "java"
    }
   },
   "source": [
    "## part 4:\n",
    "\n",
    "A hashset would be most efficient for its low O(1) time complexity for the add, remove, and contains methods, and lack of allowed dupes (hashsets cannot have duplicates by default)."
   ]
  }
 ],
 "metadata": {
  "kernelspec": {
   "display_name": "Java",
   "language": "java",
   "name": "java"
  },
  "language_info": {
   "codemirror_mode": "java",
   "file_extension": ".jshell",
   "mimetype": "text/x-java-source",
   "name": "Java",
   "pygments_lexer": "java",
   "version": "17.0.14+7-Ubuntu-122.04.1"
  }
 },
 "nbformat": 4,
 "nbformat_minor": 5
}
