{
 "cells": [
  {
   "cell_type": "markdown",
   "metadata": {},
   "source": [
    "---\n",
    "layout: post\n",
    "title: 2D Arrays Homework\n",
    "type: hacks\n",
    "comments: true\n",
    "permalink: /2D-Arraysp2/homework\n",
    "---"
   ]
  },
  {
   "cell_type": "code",
   "execution_count": 53,
   "metadata": {
    "vscode": {
     "languageId": "java"
    }
   },
   "outputs": [
    {
     "name": "stdout",
     "output_type": "stream",
     "text": [
      "Number of increasing columns in grid: 3 Number of increasing columns in grid2: 4\n"
     ]
    }
   ],
   "source": [
    "private int[][] grid = { // Expected output: 3\n",
    "    {1,4,7},\n",
    "    {2,5,8},\n",
    "    {3,6,9}\n",
    "};\n",
    "private int[][] grid2 = { // Expected output: 4\n",
    "    {1,1,1,1,1,10},\n",
    "    {2,2,2,2,2,2},\n",
    "    {3,30,3,3,3,3},\n",
    "    {4,4,4,4,4,4}\n",
    "};\n",
    "public int countIncreasingCols(int[][] grid) {\n",
    "    int cols = 0;\n",
    "    boolean add = true;\n",
    "    for(int col = 0; col <= grid[0].length-1; col++) {\n",
    "        for(int row = grid.length-1; row > 0; row--) {\n",
    "            if(grid[row][col] > grid[row-1][col]) {}\n",
    "            else {\n",
    "                add = false;\n",
    "            }\n",
    "        }\n",
    "        if(add) cols++;\n",
    "        add = true;\n",
    "    }\n",
    "    return cols;\n",
    "}\n",
    "\n",
    "System.out.println(\"Number of increasing columns in grid: \" + countIncreasingCols(grid) + \" Number of increasing columns in grid2: \" + countIncreasingCols(grid2))"
   ]
  }
 ],
 "metadata": {
  "kernelspec": {
   "display_name": "Java",
   "language": "java",
   "name": "java"
  },
  "language_info": {
   "codemirror_mode": "java",
   "file_extension": ".jshell",
   "mimetype": "text/x-java-source",
   "name": "Java",
   "pygments_lexer": "java",
   "version": "17.0.12+7-Ubuntu-1ubuntu222.04"
  }
 },
 "nbformat": 4,
 "nbformat_minor": 2
}
