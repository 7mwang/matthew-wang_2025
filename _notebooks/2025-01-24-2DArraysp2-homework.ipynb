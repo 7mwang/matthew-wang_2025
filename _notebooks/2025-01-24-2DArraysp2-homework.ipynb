{
 "cells": [
  {
   "cell_type": "markdown",
   "metadata": {},
   "source": [
    "---\n",
    "layout: post\n",
    "title: 2D Arrays Homework\n",
    "type: hacks\n",
    "comments: true\n",
    "permalink: /2D-Arraysp2/homework\n",
    "---"
   ]
  },
  {
   "cell_type": "code",
   "execution_count": 62,
   "metadata": {},
   "outputs": [],
   "source": [
    "import java.util.Random;\n",
    "private int MAX; // given var\n",
    "int[][] grid = new int[3][3];\n",
    "public void repopulate() {\n",
    "    int num;\n",
    "    for(int row = 0; row < grid.length; row++) {\n",
    "        for(int col = 0; col < grid[0].length; col++) { // iterate through grid\n",
    "            num = ((int)(Math.random()) * (MAX/10) + 1) * 10; // generate a new random int that is between 1 and MAX, and divisible by 10\n",
    "            while (num % 100 == 0) { // while num is divisible by 0:\n",
    "                num = ((int)(Math.random()) * (MAX/10) + 1) * 10; // generate a new random int until the remainder is no longer 0\n",
    "            }\n",
    "            grid[row][col] = num; // set the random value in the position and continue looping\n",
    "        }\n",
    "    }\n",
    "}\n",
    "repopulate();"
   ]
  },
  {
   "cell_type": "code",
   "execution_count": null,
   "metadata": {},
   "outputs": [
    {
     "name": "stdout",
     "output_type": "stream",
     "text": [
      "Number of increasing columns in grid: 3 Number of increasing columns in grid2: 4\n"
     ]
    }
   ],
   "source": [
    "private int[][] grid = { // Expected output: 3\n",
    "    {1,4,7},\n",
    "    {2,5,8},\n",
    "    {3,6,9}\n",
    "};\n",
    "private int[][] grid2 = { // Expected output: 4\n",
    "    {1,1,1,1,1,10},\n",
    "    {2,2,2,2,2,2},\n",
    "    {3,30,3,3,3,3},\n",
    "    {4,4,4,4,4,4}\n",
    "};\n",
    "public int countIncreasingCols(int[][] grid) {\n",
    "    int cols = 0; // initialize cols which holds the number of \n",
    "    boolean add = true;\n",
    "    for(int col = 0; col <= grid[0].length-1; col++) { // column-row for looping\n",
    "        for(int row = grid.length-1; row > 0; row--) { \n",
    "            if(grid[row][col] < grid[row-1][col]) add = false; // if the current position is less than the position one row up (checking along 1 column), set add to false \n",
    "        }\n",
    "        if(add) cols++; // if add remains true throughout the loop, increment cols \n",
    "        add = true; // reset add to true\n",
    "    }\n",
    "    return cols; // return after finishing loop\n",
    "}\n",
    "\n",
    "System.out.println(\"Number of increasing columns in grid: \" + countIncreasingCols(grid) + \" Number of increasing columns in grid2: \" + countIncreasingCols(grid2))"
   ]
  }
 ],
 "metadata": {
  "kernelspec": {
   "display_name": "Java",
   "language": "java",
   "name": "java"
  },
  "language_info": {
   "codemirror_mode": "java",
   "file_extension": ".jshell",
   "mimetype": "text/x-java-source",
   "name": "java",
   "pygments_lexer": "java",
   "version": "17.0.12+7-Ubuntu-1ubuntu222.04"
  }
 },
 "nbformat": 4,
 "nbformat_minor": 2
}
