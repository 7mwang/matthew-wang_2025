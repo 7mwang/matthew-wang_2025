{
 "cells": [
  {
   "cell_type": "markdown",
   "metadata": {},
   "source": [
    "---\n",
    "layout: post\n",
    "title: Sprint 1 - SASS Hacks\n",
    "comments: true\n",
    "---"
   ]
  },
  {
   "cell_type": "markdown",
   "metadata": {},
   "source": [
    "# SASS Hack Overview\n",
    "\n",
    "When going through the SASS hacks, I achieved a way better understanding of how the sass styling and remote themes work. I was able to understand how other styles are used alongside the minima theme, and that you can create new folders for your own files, and use things like @import to include those styles.\n",
    "\n",
    "The _mixin.scss file is used to make mixins, or that can be used in multiple files within the folder. In this case, it holds style for one button that is used in at least the binary calculator, and the js calculator.\n",
    "\n",
    "The use of @include inherits the style from the button() mixin from mixins.scss. Every element with the calc-button class will have the style from the button mixin, and whatever other styles that are put under it.\n",
    "\n",
    "The button() mixin is reused in SASS. It can be used in any file, as long as it is referenced.\n",
    "\n",
    "In order to use it in HTML, you would just apply the .calc-button class to the element."
   ]
  }
 ],
 "metadata": {
  "language_info": {
   "name": "python"
  }
 },
 "nbformat": 4,
 "nbformat_minor": 2
}
