{
 "cells": [
  {
   "cell_type": "markdown",
   "metadata": {},
   "source": [
    "---\n",
    "layout: post\n",
    "title: Methods Homework\n",
    "type: hacks\n",
    "comments: true\n",
    "permalink: /methods/homework\n",
    "---"
   ]
  },
  {
   "cell_type": "markdown",
   "metadata": {},
   "source": [
    "# 2022 FRQ Question 1"
   ]
  },
  {
   "cell_type": "code",
   "execution_count": null,
   "metadata": {
    "vscode": {
     "languageId": "java"
    }
   },
   "outputs": [],
   "source": [
    "public class Game {\n",
    "    private Level levelOne;\n",
    "    private Level levelTwo;\n",
    "    private Level levelThree;\n",
    "\n",
    "    public Game() {\n",
    "\n",
    "    }\n",
    "\n",
    "    public boolean isBonus() {\n",
    "\n",
    "    }\n",
    "\n",
    "    public void play() {\n",
    "\n",
    "    }\n",
    "\n",
    "    public int getScore() {\n",
    "        if (levelOne.goalReached() && levelTwo.goalReached() && levelThree.goalReached()) {\n",
    "            if (isBonus()) {\n",
    "                return 3*levelOne.getPoints() + levelTwo.getPoints() + levelThree.getPoints();\n",
    "            }\n",
    "\n",
    "            else {\n",
    "                return levelOne.getPoints() + levelTwo.getPoints() + levelThree.getPoints();\n",
    "            }\n",
    "        else if (levelOne.goalReached() && levelTwo.goalReached()) {\n",
    "            if (isBonus()) {\n",
    "                return 3*levelOne.getPoints() + levelTwo.getPoints();\n",
    "            }\n",
    "\n",
    "            else {\n",
    "                return levelOne.getPoints() + levelTwo.getPoints();\n",
    "            }\n",
    "        }\n",
    "        else if (levelOne.goalReached()) {\n",
    "            if (isBonus()) {\n",
    "                return 3*levelOne.getPoints();\n",
    "            }\n",
    "\n",
    "            else {\n",
    "                return levelOne.getPoints();\n",
    "            }\n",
    "        }\n",
    "        }\n",
    "    }\n",
    "\n",
    "    public int playManyTimes(int num) {\n",
    "        int totalScore = 0;\n",
    "        for (int i = 0; i < num; i++) {\n",
    "            play();\n",
    "            totalScore += getScore();\n",
    "        }\n",
    "        return totalScore;\n",
    "    }\n",
    "\n",
    "}"
   ]
  },
  {
   "cell_type": "code",
   "execution_count": null,
   "metadata": {
    "vscode": {
     "languageId": "java"
    }
   },
   "outputs": [],
   "source": [
    "public class Level {\n",
    "    public boolean goalReached() {\n",
    "\n",
    "    }\n",
    "\n",
    "    public int getPoints() {\n",
    "        \n",
    "    }\n",
    "}"
   ]
  }
 ],
 "metadata": {
  "language_info": {
   "name": "python"
  }
 },
 "nbformat": 4,
 "nbformat_minor": 2
}
