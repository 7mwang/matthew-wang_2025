{
 "cells": [
  {
   "cell_type": "markdown",
   "metadata": {},
   "source": [
    "---\n",
    "layout: post\n",
    "title: Methods Homework\n",
    "type: hacks\n",
    "comments: true\n",
    "permalink: /methods/homework\n",
    "---"
   ]
  },
  {
   "cell_type": "markdown",
   "metadata": {},
   "source": [
    "# 2022 FRQ Question 1"
   ]
  },
  {
   "cell_type": "code",
   "execution_count": null,
   "metadata": {
    "vscode": {
     "languageId": "java"
    }
   },
   "outputs": [],
   "source": [
    "public class Game {\n",
    "    private Level levelOne;\n",
    "    private Level levelTwo;\n",
    "    private Level levelThree;\n",
    "\n",
    "    public Game() {\n",
    "\n",
    "    }\n",
    "\n",
    "    public boolean isBonus() {\n",
    "\n",
    "    }\n",
    "\n",
    "    public void play() {\n",
    "\n",
    "    }\n",
    "\n",
    "    public int getScore() {\n",
    "        int score = 0;\n",
    "        if levelOne.goalReached() {\n",
    "            score += levelOne.getPoints();\n",
    "        }\n",
    "\n",
    "        if levelTwo.goalReached() {\n",
    "            score += levelTwo.getPoints();\n",
    "        }\n",
    "\n",
    "        if levelThree.goalReached() {\n",
    "            score += levelThree.getPoints();\n",
    "        }\n",
    "        if (isBonus()) {\n",
    "            return 3*score;\n",
    "        }\n",
    "\n",
    "        return score;\n",
    "    }\n",
    "\n",
    "    public int playManyTimes(int num) {\n",
    "        int largest = 0;\n",
    "        for (int i = 0; i < num; i++) {\n",
    "            play();\n",
    "            if (getScore() > largest) {\n",
    "                largest = getScore();\n",
    "            }\n",
    "        }\n",
    "        return largest;\n",
    "    }\n",
    "\n",
    "}"
   ]
  },
  {
   "cell_type": "code",
   "execution_count": null,
   "metadata": {
    "vscode": {
     "languageId": "java"
    }
   },
   "outputs": [],
   "source": [
    "public class Level {\n",
    "    public boolean goalReached() {\n",
    "\n",
    "    }\n",
    "\n",
    "    public int getPoints() {\n",
    "        \n",
    "    }\n",
    "}"
   ]
  }
 ],
 "metadata": {
  "language_info": {
   "name": "python"
  }
 },
 "nbformat": 4,
 "nbformat_minor": 2
}
