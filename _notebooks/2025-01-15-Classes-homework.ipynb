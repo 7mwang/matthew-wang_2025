{
 "cells": [
  {
   "cell_type": "markdown",
   "metadata": {},
   "source": [
    "---\n",
    "layout: post\n",
    "title: Classes Homework\n",
    "type: hacks\n",
    "comments: true\n",
    "permalink: /classes/homework\n",
    "---"
   ]
  },
  {
   "cell_type": "markdown",
   "metadata": {},
   "source": [
    "## first attempt (ian wu literally (probably) saw me code half of this in front of his eyes in class)"
   ]
  },
  {
   "cell_type": "code",
   "execution_count": null,
   "metadata": {
    "vscode": {
     "languageId": "java"
    }
   },
   "outputs": [],
   "source": [
    "public class SingleTable {\n",
    "    public int getNumSeats() {}\n",
    "    public int getHeight() {}   \n",
    "    public double getViewQuality() {}\n",
    "    public void setViewQuality(double value) {}\n",
    "}\n",
    "\n",
    "public class CombinedTable {\n",
    "    public SingleTable t1;\n",
    "    public SingleTable t2;\n",
    "    public CombinedTable(SingleTable t1, SingleTable t2) {\n",
    "        this.t1 = t1;\n",
    "        this.t2 = t2;\n",
    "    }\n",
    "\n",
    "    public boolean canSeat(int n) {\n",
    "        // can seat customers 2 less than total\n",
    "        // if number of people is greater than 2 less than the total, you cant seat them\n",
    "        // -> return false\n",
    "        // else return true\n",
    "        if (n>(t1.getNumSeats()+t2.getNumSeats()-2)) {\n",
    "            return false;\n",
    "        }\n",
    "        else {\n",
    "            return true;\n",
    "        }\n",
    "    }\n",
    "    \n",
    "    public double getDesireability(SingleTable t1, SingleTable t2) {\n",
    "        if (t1.getHeight() != t2.getHeight()) {\n",
    "            // if the heights are not the same, desireability is 10 less than the avg\n",
    "            return (t1.getViewQuality() + t2.getViewQuality())/2 - 10;\n",
    "        }\n",
    "\n",
    "        else {\n",
    "            // if the heights are the same, (not !=) desireability is the average of the two\n",
    "            return (t1.getViewQuality()+t2.getViewQuality())/2;\n",
    "        }\n",
    "    }\n",
    "}"
   ]
  },
  {
   "cell_type": "markdown",
   "metadata": {},
   "source": [
    "## SCORING\n",
    "\n",
    "1. declares class header and constructor w/ parameters, constructor not private: yes\n",
    "2. declares appropriate private instance variables including at least two SingleTable references: no\n",
    "3. constructor initializes instance variables using parameters: yes\n",
    "4. declares header public boolean canseat(int _): yes\n",
    "5. calls getNumSeats and returns true if and only if sum of two tables -2 >= n: yes, because i checked for the opposite condition to return false, x>y returns false is the same as y >= x returns true (i think?)\n",
    "7. declares header public double getDesirability(): technically no (idk if they will care about a spelling error but apparently i dont know how to spell desirability)\n",
    "8. calls getHeight and getViewQuality on SingleTable objects: yes, calling them on t1 and t2\n",
    "9. getDesirability computes average of constituent tables' views desirabilities: yes\n",
    "\n",
    "total score: 7/9, maybe probably could be 8 if they dont count my bad spelling\n",
    "\n",
    "self notes: \n",
    "- make a habit of using private instance variables, it is good practice for both general coding and CB\n",
    "- read the question carefully to not make spelling errors"
   ]
  },
  {
   "cell_type": "markdown",
   "metadata": {},
   "source": [
    "## code rewrite:"
   ]
  },
  {
   "cell_type": "code",
   "execution_count": null,
   "metadata": {
    "vscode": {
     "languageId": "java"
    }
   },
   "outputs": [],
   "source": [
    "public class SingleTable {\n",
    "    public int getNumSeats() {}\n",
    "    public int getHeight() {}\n",
    "    public double getViewQuality() {}\n",
    "    public void setViewQuality(double value) {}\n",
    "}\n",
    "\n",
    "public class CombinedTable {\n",
    "    // private\n",
    "    private SingleTable t1;\n",
    "    private SingleTable t2;\n",
    "    public CombinedTable(SingleTable t1, SingleTable t2) {\n",
    "        this.t1 = t1;\n",
    "        this.t2 = t2;\n",
    "    }\n",
    "\n",
    "    public boolean canSeat(int n) {\n",
    "        if (n>(t1.getNumSeats()+t2.getNumSeats()-2)) {\n",
    "            return false;\n",
    "        }\n",
    "        else {\n",
    "            return true;\n",
    "        }\n",
    "    }\n",
    "    \n",
    "    public double getDesirability(SingleTable t1, SingleTable t2) {\n",
    "        // fixed spelling\n",
    "        if (t1.getHeight() != t2.getHeight()) {\n",
    "            return (t1.getViewQuality() + t2.getViewQuality())/2 - 10;\n",
    "        }\n",
    "\n",
    "        else {\n",
    "            return (t1.getViewQuality()+t2.getViewQuality())/2;\n",
    "        }\n",
    "    }\n",
    "}"
   ]
  }
 ],
 "metadata": {
  "language_info": {
   "name": "python"
  }
 },
 "nbformat": 4,
 "nbformat_minor": 2
}
