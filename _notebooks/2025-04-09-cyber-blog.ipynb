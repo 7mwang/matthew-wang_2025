{
 "cells": [
  {
   "cell_type": "markdown",
   "id": "044b1578",
   "metadata": {},
   "source": [
    "---\n",
    "title: Cybersecurity Blog\n",
    "comments: true\n",
    "layout: post\n",
    "description: Blog & Reflection of Cybersecurity panel\n",
    "author: Matthew Wang\n",
    "type: ccc\n",
    "courses: { csa: {week: 28} }\n",
    "permalink: /reflection/cyber\n",
    "---\n"
   ]
  },
  {
   "cell_type": "markdown",
   "id": "606954c1",
   "metadata": {},
   "source": [
    "![Image](https://github.com/user-attachments/assets/512d2425-d8f9-42f1-b1dc-fc8040106151)"
   ]
  },
  {
   "cell_type": "markdown",
   "id": "94bd37b1",
   "metadata": {},
   "source": [
    "# Key Takeaways\n",
    "\n",
    "## What's the biggest threats today?\n",
    "- Ransomware\n",
    "    - Holds data hostage for payment\n",
    "- Foreign Adversary\n",
    "    - Takes billions from the U.S. populace\n",
    "- Phishing\n",
    "    - Most commonly used against less technically literate users\n",
    "\n",
    "## What's an ethical hacker?\n",
    "- Real hackers that pen-test (penetration test) softwares/systems etc.\n",
    "    - Use same tools, terminology, etc. as a real hacker\n",
    "    - Also called \"white hat hackers\"\n",
    "- Ethical concerns\n",
    "    - They could leave backdoors in the systems\n",
    "\n",
    "## How do I succeed in cybersecurity?\n",
    "- Number 1 Priority: PASSION\n",
    "    - The msot important thing to succeed in the industry is to be passionate about cybersecurity in and out of your job\n",
    "- Prior specifications?\n",
    "    - Things like certifications in cybersecurity (A+, N+, CC) and background knowledge in things like IT are very helpful\n",
    "- Build a network!\n",
    "    - Building a network can both get you jobs, and help you learn about cybersecurity\n"
   ]
  }
 ],
 "metadata": {
  "language_info": {
   "name": "python"
  }
 },
 "nbformat": 4,
 "nbformat_minor": 5
}
