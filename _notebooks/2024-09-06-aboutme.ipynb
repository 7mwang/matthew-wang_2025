{
 "cells": [
  {
   "cell_type": "markdown",
   "metadata": {},
   "source": [
    "---\n",
    "layout: post\n",
    "title: About Me\n",
    "comments: true\n",
    "---"
   ]
  },
  {
   "cell_type": "markdown",
   "metadata": {},
   "source": [
    "## Skills\n",
    "- General web development\n",
    "- Problem-solving\n",
    "- Persistence\n",
    "\n",
    "## Hobbies\n",
    "- Badminton\n",
    "- Gaming\n",
    "- Programming\n",
    "\n",
    "## Fun Facts\n",
    "- 2 older sister that went to DNHS, 1 younger that will\n",
    "- I enjoy hiking and camping, but don't get to do them often\n",
    "\n",
    "## Side Projects\n",
    "- I enjoy gaming, and attempt to make my time spent more productive by making small side projects\n",
    "    - mainly things like small minecraft mods, or API work"
   ]
  }
 ],
 "metadata": {
  "language_info": {
   "name": "python"
  }
 },
 "nbformat": 4,
 "nbformat_minor": 2
}
