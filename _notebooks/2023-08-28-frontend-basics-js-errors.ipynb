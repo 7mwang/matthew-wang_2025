{
 "cells": [
  {
   "cell_type": "raw",
   "metadata": {
    "vscode": {
     "languageId": "raw"
    }
   },
   "source": [
    "---\n",
    "layout: post\n",
    "title: Correcting errors\n",
    "description: Practice with identifying and correcting errors in code blocks\n",
    "permalink: /frontend/basics/js-debug\n",
    "categories: [Javascript]\n",
    "author: Safin Singh and Rohan Juneja\n",
    "---"
   ]
  },
  {
   "cell_type": "markdown",
   "metadata": {},
   "source": [
    "{% include nav/frontend_basics.html %}"
   ]
  },
  {
   "cell_type": "markdown",
   "metadata": {},
   "source": [
    "## Identifying and Correcting Errors \n",
    "\n",
    "> Become familiar with types of errors and strategies for fixing them\n",
    "\n",
    "- Review CollegeBoard videos and take notes on blog\n",
    "- Complete assigned MCQ questions if applicable"
   ]
  },
  {
   "cell_type": "markdown",
   "metadata": {},
   "source": [
    "## Code Segments\n",
    "\n",
    "Practice fixing the following code segments!"
   ]
  },
  {
   "cell_type": "markdown",
   "metadata": {},
   "source": [
    "### Segment 1: Alphabet List\n",
    "\n",
    "Intended behavior: create a list of characters from the string contained in the variable `alphabet`\n",
    "\n",
    "### Code:"
   ]
  },
  {
   "cell_type": "code",
   "execution_count": 2,
   "metadata": {
    "vscode": {
     "languageId": "javascript"
    }
   },
   "outputs": [
    {
     "data": {
      "application/javascript": "\nvar alphabet = \"abcdefghijklmnopqrstuvwxyz\";\nvar alphabetList = [];\n\nfor (var i = 0; i < 10; i++) {\n\talphabetList.push(alphabet[i]);\n}\n\nconsole.log(alphabetList);\n",
      "text/plain": [
       "<IPython.core.display.Javascript object>"
      ]
     },
     "metadata": {},
     "output_type": "display_data"
    }
   ],
   "source": [
    "%%js\n",
    "\n",
    "var alphabet = \"abcdefghijklmnopqrstuvwxyz\";\n",
    "var alphabetList = [];\n",
    "\n",
    "for (var i = 0; i < 10; i++) {\n",
    "\talphabetList.push(alphabet[i]);\n",
    "}\n",
    "\n",
    "console.log(alphabetList);"
   ]
  },
  {
   "cell_type": "markdown",
   "metadata": {},
   "source": [
    "[\n",
    "  'a', 'b', 'c', 'd',\n",
    "  'e', 'f', 'g', 'h',\n",
    "  'i', 'j'\n",
    "]"
   ]
  },
  {
   "cell_type": "markdown",
   "metadata": {},
   "source": [
    "#### What I Changed\n",
    "\n",
    "I made it so that instead of pushing i, it pushed the ith element of the alphabet string."
   ]
  },
  {
   "cell_type": "markdown",
   "metadata": {},
   "source": [
    "### Segment 2: Numbered Alphabet\n",
    "\n",
    "Intended behavior: print the number of a given alphabet letter within the alphabet. For example:\n",
    "```\n",
    "\"_\" is letter number _ in the alphabet\n",
    "```\n",
    "\n",
    "Where the underscores (_) are replaced with the letter and the position of that letter within the alphabet (e.g. a=1, b=2, etc.)\n",
    "\n",
    "### Code:"
   ]
  },
  {
   "cell_type": "code",
   "execution_count": null,
   "metadata": {
    "vscode": {
     "languageId": "javascript"
    }
   },
   "outputs": [],
   "source": [
    "%%js\n",
    "\n",
    "var alphabet = \"abcdefghijklmnopqrstuvwxyz\";\n",
    "var alphabetList = [];\n",
    "\n",
    "for (var i = 0; i < 10; i++) {\n",
    "    alphabetList.push(alphabet[i]);\n",
    "}\n",
    "\n",
    "let letterNumber = 5;\n",
    "\n",
    "for (var i = 0; i < alphabetList.length; i++) {\n",
    "    if (i === letterNumber) {\n",
    "        console.log(alphabetList[letterNumber] + \" is letter number \" + (i + 1) + \" in the alphabet\");\n",
    "    }\n",
    "}\n",
    "\n",
    "// Should output:\n",
    "// \"e\" is letter number 5 in the alphabet"
   ]
  },
  {
   "cell_type": "markdown",
   "metadata": {},
   "source": [
    "f is letter number 6 in the alphabet"
   ]
  },
  {
   "cell_type": "markdown",
   "metadata": {},
   "source": [
    "#### What I Changed\n",
    "\n",
    "I made it so that instead of logging letterNumber, it accessed the letterNumberth list in alphabetList and logged that instead."
   ]
  },
  {
   "cell_type": "markdown",
   "metadata": {},
   "source": [
    "### Segment 3: Odd Numbers\n",
    "\n",
    "Intended behavior: print a list of all the odd numbers below 10\n",
    "\n",
    "### Code:"
   ]
  },
  {
   "cell_type": "code",
   "execution_count": null,
   "metadata": {
    "vscode": {
     "languageId": "javascript"
    }
   },
   "outputs": [],
   "source": [
    "%%js\n",
    "\n",
    "let evens = [];\n",
    "let i = 1;\n",
    "\n",
    "while (i <= 10) {\n",
    "  evens.push(i);\n",
    "  i += 2;\n",
    "}\n",
    "\n",
    "console.log(evens);"
   ]
  },
  {
   "cell_type": "markdown",
   "metadata": {},
   "source": [
    "[ 1, 3, 5, 7, 9 ]"
   ]
  },
  {
   "cell_type": "markdown",
   "metadata": {},
   "source": [
    "#### What I Changed\n",
    "\n",
    "I made i start at 1"
   ]
  },
  {
   "cell_type": "markdown",
   "metadata": {},
   "source": [
    "## BELOW NOT EDITED"
   ]
  },
  {
   "cell_type": "markdown",
   "metadata": {},
   "source": [
    "The intended outcome is printing a number between 1 and 100 once, if it is a multiple of 2 or 5 \n",
    "- What values are outputted incorrectly. Why?\n",
    "- Make changes to get the intended outcome."
   ]
  },
  {
   "cell_type": "code",
   "execution_count": 3,
   "metadata": {
    "vscode": {
     "languageId": "javascript"
    }
   },
   "outputs": [
    {
     "data": {
      "application/javascript": "\nvar numbers = []\nvar newNumbers = []\nvar i = 0\n\nwhile (i < 100) {\n    numbers.push(i)\n    i += 1\n}\nfor (var i of numbers) {\n    if (numbers[i] % 5 === 0)\n        newNumbers.push(numbers[i])\n    if (numbers[i] % 2 === 0 && numbers[i] % 5 !== 0)\n        newNumbers.push(numbers[i])\n}\nconsole.log(newNumbers) \n\n",
      "text/plain": [
       "<IPython.core.display.Javascript object>"
      ]
     },
     "metadata": {},
     "output_type": "display_data"
    }
   ],
   "source": [
    "%%js\n",
    "\n",
    "var numbers = []\n",
    "var newNumbers = []\n",
    "var i = 1\n",
    "\n",
    "while (i < 100) {\n",
    "    numbers.push(i)\n",
    "    i += 1\n",
    "}\n",
    "for (var i of numbers) {\n",
    "    if (numbers[i] % 5 === 0)\n",
    "        newNumbers.push(numbers[i])\n",
    "    if (numbers[i] % 2 === 0 && numbers[i] % 5 !== 0)\n",
    "        newNumbers.push(numbers[i])\n",
    "}\n",
    "console.log(newNumbers) \n",
    "\n"
   ]
  },
  {
   "cell_type": "markdown",
   "metadata": {},
   "source": [
    "[\n",
    "   0,  2,  4,  5,  6,  8, 10, 12, 14, 15, 16, 18,\n",
    "  20, 22, 24, 25, 26, 28, 30, 32, 34, 35, 36, 38,\n",
    "  40, 42, 44, 45, 46, 48, 50, 52, 54, 55, 56, 58,\n",
    "  60, 62, 64, 65, 66, 68, 70, 72, 74, 75, 76, 78,\n",
    "  80, 82, 84, 85, 86, 88, 90, 92, 94, 95, 96, 98\n",
    "]"
   ]
  },
  {
   "cell_type": "markdown",
   "metadata": {},
   "source": [
    "Numbers that were divisble by both 2 and 5 were included, as well as 0. I made it check that if the number was divisible by 2 it wasn't also divisible by 5, making sure there were no duplicates, and I also excluded 0 by making the list start at 1."
   ]
  },
  {
   "cell_type": "markdown",
   "metadata": {},
   "source": [
    "## Challenge\n",
    "\n",
    "This code segment is at a very early stage of implementation.\n",
    "- What are some ways to (user) error proof this code?\n",
    "- The code should be able to calculate the cost of the meal of the user\n",
    "\n",
    "Hint:\n",
    "- write a “single” test describing an expectation of the program of the program\n",
    "- test - input burger, expect output of burger price\n",
    "- run the test, which should fail because the program lacks that feature\n",
    "- write “just enough” code, the simplest possible, to make the test pass\n",
    "\n",
    "Then repeat this process until you get program working like you want it to work."
   ]
  },
  {
   "cell_type": "code",
   "execution_count": null,
   "metadata": {
    "vscode": {
     "languageId": "javascript"
    }
   },
   "outputs": [],
   "source": [
    "%%js\n",
    "\n",
    "var menu =  {\"burger\": 3.99,\n",
    "         \"fries\": 1.99,\n",
    "         \"drink\": 0.99}\n",
    "var total = 0\n",
    "\n",
    "//shows the user the menu and prompts them to select an item\n",
    "console.log(\"Menu\")\n",
    "for (var item in menu) {\n",
    "    console.log(item + \"  $\" + menu[item].toFixed(2)) //why is toFixed used?\n",
    "}\n",
    "//ideally the code should support mutliple items\n",
    "var item = \"burger\"\n",
    "\n",
    "//code should add the price of the menu items selected by the user \n",
    "console.log(total)"
   ]
  },
  {
   "cell_type": "markdown",
   "metadata": {},
   "source": [
    "## Hacks\n",
    "- Fix the errors in the first three segments in this notebook and say what you changed in the code cell under \"What I Changed\" (Challenge is optional)"
   ]
  }
 ],
 "metadata": {
  "kernelspec": {
   "display_name": "Python 3.10.6 64-bit",
   "language": "python",
   "name": "python3"
  },
  "language_info": {
   "codemirror_mode": {
    "name": "ipython",
    "version": 3
   },
   "file_extension": ".py",
   "mimetype": "text/x-python",
   "name": "python",
   "nbconvert_exporter": "python",
   "pygments_lexer": "ipython3",
   "version": "3.10.12"
  },
  "orig_nbformat": 4,
  "vscode": {
   "interpreter": {
    "hash": "aee8b7b246df8f9039afb4144a1f6fd8d2ca17a180786b69acc140d282b71a49"
   }
  }
 },
 "nbformat": 4,
 "nbformat_minor": 2
}
